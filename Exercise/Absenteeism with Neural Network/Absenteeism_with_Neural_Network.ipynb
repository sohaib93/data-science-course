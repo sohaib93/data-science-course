{
  "nbformat": 4,
  "nbformat_minor": 0,
  "metadata": {
    "colab": {
      "name": "Absenteeism with Neural Network",
      "version": "0.3.2",
      "provenance": [],
      "collapsed_sections": []
    },
    "kernelspec": {
      "name": "python3",
      "display_name": "Python 3"
    }
  },
  "cells": [
    {
      "metadata": {
        "id": "NsrQEoJxHatm",
        "colab_type": "code",
        "colab": {}
      },
      "cell_type": "code",
      "source": [
        "import numpy as np\n",
        "import pandas as pd\n",
        "import tensorflow as tf\n",
        "from sklearn import preprocessing\n",
        "from sklearn.utils import shuffle"
      ],
      "execution_count": 0,
      "outputs": []
    },
    {
      "metadata": {
        "id": "CoNzjwIqHcwC",
        "colab_type": "code",
        "colab": {
          "resources": {
            "http://localhost:8080/nbextensions/google.colab/files.js": {
              "data": "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",
              "ok": true,
              "headers": [
                [
                  "content-type",
                  "application/javascript"
                ]
              ],
              "status": 200,
              "status_text": ""
            }
          },
          "base_uri": "https://localhost:8080/",
          "height": 106
        },
        "outputId": "b358da7f-a281-4785-a2ab-7c2ecc30baf0"
      },
      "cell_type": "code",
      "source": [
        "#since I am using colab.research.google.com have to do the follwoing to import my data set\n",
        "from google.colab import files\n",
        "\n",
        "!rm Absenteeism_preprocessed.csv\n",
        "uploaded = files.upload()\n",
        "\n",
        "for fn in uploaded.keys():\n",
        "  print('User uploaded file \"{name}\" with length {length} bytes'.format(\n",
        "      name=fn, length=len(uploaded[fn])))"
      ],
      "execution_count": 5,
      "outputs": [
        {
          "output_type": "stream",
          "text": [
            "rm: cannot remove 'Absenteeism-data.csv': No such file or directory\n"
          ],
          "name": "stdout"
        },
        {
          "output_type": "display_data",
          "data": {
            "text/html": [
              "\n",
              "     <input type=\"file\" id=\"files-33c697b6-20ab-45c3-8409-4aedb8e78af2\" name=\"files[]\" multiple disabled />\n",
              "     <output id=\"result-33c697b6-20ab-45c3-8409-4aedb8e78af2\">\n",
              "      Upload widget is only available when the cell has been executed in the\n",
              "      current browser session. Please rerun this cell to enable.\n",
              "      </output>\n",
              "      <script src=\"/nbextensions/google.colab/files.js\"></script> "
            ],
            "text/plain": [
              "<IPython.core.display.HTML object>"
            ]
          },
          "metadata": {
            "tags": []
          }
        },
        {
          "output_type": "stream",
          "text": [
            "Saving Absenteeism_preprocessed.csv to Absenteeism_preprocessed.csv\n",
            "User uploaded file \"Absenteeism_preprocessed.csv\" with length 34059 bytes\n"
          ],
          "name": "stdout"
        }
      ]
    },
    {
      "metadata": {
        "id": "szGvh5svJsDq",
        "colab_type": "text"
      },
      "cell_type": "markdown",
      "source": [
        "##PREPROCESS"
      ]
    },
    {
      "metadata": {
        "id": "3ruWfdKAIW1D",
        "colab_type": "code",
        "colab": {
          "base_uri": "https://localhost:8080/",
          "height": 221
        },
        "outputId": "7c3dab0a-2464-4ce4-c9ee-6f8039404336"
      },
      "cell_type": "code",
      "source": [
        "data = pd.read_csv('Absenteeism_preprocessed.csv')\n",
        "#create targets\n",
        "#consider 2 classes ; moderatley absent and excessively absent\n",
        "#take mean of absenteeism hours. below median is moderatley absent else excessively absent\n",
        "\n",
        "median_absent_time = data['Absenteeism Time in Hours'].median()\n",
        "\n",
        "targets = np.where(data['Absenteeism Time in Hours'] > median_absent_time, 1, 0) #condition, true value, false value\n",
        "#merge targets to data\n",
        "\n",
        "data[\"Excessive Absenteeism\"] = targets\n",
        "targets = data.iloc[:,-1] #so that target is now a df too\n",
        "data.head()"
      ],
      "execution_count": 338,
      "outputs": [
        {
          "output_type": "execute_result",
          "data": {
            "text/html": [
              "<div>\n",
              "<style scoped>\n",
              "    .dataframe tbody tr th:only-of-type {\n",
              "        vertical-align: middle;\n",
              "    }\n",
              "\n",
              "    .dataframe tbody tr th {\n",
              "        vertical-align: top;\n",
              "    }\n",
              "\n",
              "    .dataframe thead th {\n",
              "        text-align: right;\n",
              "    }\n",
              "</style>\n",
              "<table border=\"1\" class=\"dataframe\">\n",
              "  <thead>\n",
              "    <tr style=\"text-align: right;\">\n",
              "      <th></th>\n",
              "      <th>Unnamed: 0</th>\n",
              "      <th>Reason 1</th>\n",
              "      <th>Reason 2</th>\n",
              "      <th>Reason 3</th>\n",
              "      <th>Reason 4</th>\n",
              "      <th>Months</th>\n",
              "      <th>Day of Week</th>\n",
              "      <th>Transportation Expense</th>\n",
              "      <th>Distance to Work</th>\n",
              "      <th>Age</th>\n",
              "      <th>Daily Work Load Average</th>\n",
              "      <th>Body Mass Index</th>\n",
              "      <th>Education</th>\n",
              "      <th>Children</th>\n",
              "      <th>Pets</th>\n",
              "      <th>Absenteeism Time in Hours</th>\n",
              "      <th>Excessive Absenteeism</th>\n",
              "    </tr>\n",
              "  </thead>\n",
              "  <tbody>\n",
              "    <tr>\n",
              "      <th>0</th>\n",
              "      <td>0</td>\n",
              "      <td>0</td>\n",
              "      <td>0</td>\n",
              "      <td>0</td>\n",
              "      <td>1</td>\n",
              "      <td>7</td>\n",
              "      <td>1</td>\n",
              "      <td>289</td>\n",
              "      <td>36</td>\n",
              "      <td>33</td>\n",
              "      <td>239.554</td>\n",
              "      <td>30</td>\n",
              "      <td>0</td>\n",
              "      <td>2</td>\n",
              "      <td>1</td>\n",
              "      <td>4</td>\n",
              "      <td>1</td>\n",
              "    </tr>\n",
              "    <tr>\n",
              "      <th>1</th>\n",
              "      <td>1</td>\n",
              "      <td>0</td>\n",
              "      <td>0</td>\n",
              "      <td>0</td>\n",
              "      <td>0</td>\n",
              "      <td>7</td>\n",
              "      <td>1</td>\n",
              "      <td>118</td>\n",
              "      <td>13</td>\n",
              "      <td>50</td>\n",
              "      <td>239.554</td>\n",
              "      <td>31</td>\n",
              "      <td>0</td>\n",
              "      <td>1</td>\n",
              "      <td>0</td>\n",
              "      <td>0</td>\n",
              "      <td>0</td>\n",
              "    </tr>\n",
              "    <tr>\n",
              "      <th>2</th>\n",
              "      <td>2</td>\n",
              "      <td>0</td>\n",
              "      <td>0</td>\n",
              "      <td>0</td>\n",
              "      <td>1</td>\n",
              "      <td>7</td>\n",
              "      <td>2</td>\n",
              "      <td>179</td>\n",
              "      <td>51</td>\n",
              "      <td>38</td>\n",
              "      <td>239.554</td>\n",
              "      <td>31</td>\n",
              "      <td>0</td>\n",
              "      <td>0</td>\n",
              "      <td>0</td>\n",
              "      <td>2</td>\n",
              "      <td>0</td>\n",
              "    </tr>\n",
              "    <tr>\n",
              "      <th>3</th>\n",
              "      <td>3</td>\n",
              "      <td>1</td>\n",
              "      <td>0</td>\n",
              "      <td>0</td>\n",
              "      <td>0</td>\n",
              "      <td>7</td>\n",
              "      <td>3</td>\n",
              "      <td>279</td>\n",
              "      <td>5</td>\n",
              "      <td>39</td>\n",
              "      <td>239.554</td>\n",
              "      <td>24</td>\n",
              "      <td>0</td>\n",
              "      <td>2</td>\n",
              "      <td>0</td>\n",
              "      <td>4</td>\n",
              "      <td>1</td>\n",
              "    </tr>\n",
              "    <tr>\n",
              "      <th>4</th>\n",
              "      <td>4</td>\n",
              "      <td>0</td>\n",
              "      <td>0</td>\n",
              "      <td>0</td>\n",
              "      <td>1</td>\n",
              "      <td>7</td>\n",
              "      <td>3</td>\n",
              "      <td>289</td>\n",
              "      <td>36</td>\n",
              "      <td>33</td>\n",
              "      <td>239.554</td>\n",
              "      <td>30</td>\n",
              "      <td>0</td>\n",
              "      <td>2</td>\n",
              "      <td>1</td>\n",
              "      <td>2</td>\n",
              "      <td>0</td>\n",
              "    </tr>\n",
              "  </tbody>\n",
              "</table>\n",
              "</div>"
            ],
            "text/plain": [
              "   Unnamed: 0  Reason 1  Reason 2  Reason 3  Reason 4  Months  Day of Week  \\\n",
              "0           0         0         0         0         1       7            1   \n",
              "1           1         0         0         0         0       7            1   \n",
              "2           2         0         0         0         1       7            2   \n",
              "3           3         1         0         0         0       7            3   \n",
              "4           4         0         0         0         1       7            3   \n",
              "\n",
              "   Transportation Expense  Distance to Work  Age  Daily Work Load Average  \\\n",
              "0                     289                36   33                  239.554   \n",
              "1                     118                13   50                  239.554   \n",
              "2                     179                51   38                  239.554   \n",
              "3                     279                 5   39                  239.554   \n",
              "4                     289                36   33                  239.554   \n",
              "\n",
              "   Body Mass Index  Education  Children  Pets  Absenteeism Time in Hours  \\\n",
              "0               30          0         2     1                          4   \n",
              "1               31          0         1     0                          0   \n",
              "2               31          0         0     0                          2   \n",
              "3               24          0         2     0                          4   \n",
              "4               30          0         2     1                          2   \n",
              "\n",
              "   Excessive Absenteeism  \n",
              "0                      1  \n",
              "1                      0  \n",
              "2                      0  \n",
              "3                      1  \n",
              "4                      0  "
            ]
          },
          "metadata": {
            "tags": []
          },
          "execution_count": 338
        }
      ]
    },
    {
      "metadata": {
        "id": "D7uB1lqEJcvX",
        "colab_type": "code",
        "colab": {
          "base_uri": "https://localhost:8080/",
          "height": 204
        },
        "outputId": "2762dd2f-0e34-40f5-d9fe-aa8407d5dafc"
      },
      "cell_type": "code",
      "source": [
        "data = data.drop([\"Unnamed: 0\",\"Excessive Absenteeism\",\"Absenteeism Time in Hours\"],axis=1)\n",
        "data.head()"
      ],
      "execution_count": 339,
      "outputs": [
        {
          "output_type": "execute_result",
          "data": {
            "text/html": [
              "<div>\n",
              "<style scoped>\n",
              "    .dataframe tbody tr th:only-of-type {\n",
              "        vertical-align: middle;\n",
              "    }\n",
              "\n",
              "    .dataframe tbody tr th {\n",
              "        vertical-align: top;\n",
              "    }\n",
              "\n",
              "    .dataframe thead th {\n",
              "        text-align: right;\n",
              "    }\n",
              "</style>\n",
              "<table border=\"1\" class=\"dataframe\">\n",
              "  <thead>\n",
              "    <tr style=\"text-align: right;\">\n",
              "      <th></th>\n",
              "      <th>Reason 1</th>\n",
              "      <th>Reason 2</th>\n",
              "      <th>Reason 3</th>\n",
              "      <th>Reason 4</th>\n",
              "      <th>Months</th>\n",
              "      <th>Day of Week</th>\n",
              "      <th>Transportation Expense</th>\n",
              "      <th>Distance to Work</th>\n",
              "      <th>Age</th>\n",
              "      <th>Daily Work Load Average</th>\n",
              "      <th>Body Mass Index</th>\n",
              "      <th>Education</th>\n",
              "      <th>Children</th>\n",
              "      <th>Pets</th>\n",
              "    </tr>\n",
              "  </thead>\n",
              "  <tbody>\n",
              "    <tr>\n",
              "      <th>0</th>\n",
              "      <td>0</td>\n",
              "      <td>0</td>\n",
              "      <td>0</td>\n",
              "      <td>1</td>\n",
              "      <td>7</td>\n",
              "      <td>1</td>\n",
              "      <td>289</td>\n",
              "      <td>36</td>\n",
              "      <td>33</td>\n",
              "      <td>239.554</td>\n",
              "      <td>30</td>\n",
              "      <td>0</td>\n",
              "      <td>2</td>\n",
              "      <td>1</td>\n",
              "    </tr>\n",
              "    <tr>\n",
              "      <th>1</th>\n",
              "      <td>0</td>\n",
              "      <td>0</td>\n",
              "      <td>0</td>\n",
              "      <td>0</td>\n",
              "      <td>7</td>\n",
              "      <td>1</td>\n",
              "      <td>118</td>\n",
              "      <td>13</td>\n",
              "      <td>50</td>\n",
              "      <td>239.554</td>\n",
              "      <td>31</td>\n",
              "      <td>0</td>\n",
              "      <td>1</td>\n",
              "      <td>0</td>\n",
              "    </tr>\n",
              "    <tr>\n",
              "      <th>2</th>\n",
              "      <td>0</td>\n",
              "      <td>0</td>\n",
              "      <td>0</td>\n",
              "      <td>1</td>\n",
              "      <td>7</td>\n",
              "      <td>2</td>\n",
              "      <td>179</td>\n",
              "      <td>51</td>\n",
              "      <td>38</td>\n",
              "      <td>239.554</td>\n",
              "      <td>31</td>\n",
              "      <td>0</td>\n",
              "      <td>0</td>\n",
              "      <td>0</td>\n",
              "    </tr>\n",
              "    <tr>\n",
              "      <th>3</th>\n",
              "      <td>1</td>\n",
              "      <td>0</td>\n",
              "      <td>0</td>\n",
              "      <td>0</td>\n",
              "      <td>7</td>\n",
              "      <td>3</td>\n",
              "      <td>279</td>\n",
              "      <td>5</td>\n",
              "      <td>39</td>\n",
              "      <td>239.554</td>\n",
              "      <td>24</td>\n",
              "      <td>0</td>\n",
              "      <td>2</td>\n",
              "      <td>0</td>\n",
              "    </tr>\n",
              "    <tr>\n",
              "      <th>4</th>\n",
              "      <td>0</td>\n",
              "      <td>0</td>\n",
              "      <td>0</td>\n",
              "      <td>1</td>\n",
              "      <td>7</td>\n",
              "      <td>3</td>\n",
              "      <td>289</td>\n",
              "      <td>36</td>\n",
              "      <td>33</td>\n",
              "      <td>239.554</td>\n",
              "      <td>30</td>\n",
              "      <td>0</td>\n",
              "      <td>2</td>\n",
              "      <td>1</td>\n",
              "    </tr>\n",
              "  </tbody>\n",
              "</table>\n",
              "</div>"
            ],
            "text/plain": [
              "   Reason 1  Reason 2  Reason 3  Reason 4  Months  Day of Week  \\\n",
              "0         0         0         0         1       7            1   \n",
              "1         0         0         0         0       7            1   \n",
              "2         0         0         0         1       7            2   \n",
              "3         1         0         0         0       7            3   \n",
              "4         0         0         0         1       7            3   \n",
              "\n",
              "   Transportation Expense  Distance to Work  Age  Daily Work Load Average  \\\n",
              "0                     289                36   33                  239.554   \n",
              "1                     118                13   50                  239.554   \n",
              "2                     179                51   38                  239.554   \n",
              "3                     279                 5   39                  239.554   \n",
              "4                     289                36   33                  239.554   \n",
              "\n",
              "   Body Mass Index  Education  Children  Pets  \n",
              "0               30          0         2     1  \n",
              "1               31          0         1     0  \n",
              "2               31          0         0     0  \n",
              "3               24          0         2     0  \n",
              "4               30          0         2     1  "
            ]
          },
          "metadata": {
            "tags": []
          },
          "execution_count": 339
        }
      ]
    },
    {
      "metadata": {
        "id": "u1Tx1U6UKJ9h",
        "colab_type": "code",
        "colab": {}
      },
      "cell_type": "code",
      "source": [
        "#balance data set as there are more 0s in targets than 1s\n",
        "#so count 1s so that equal 0s can be used\n",
        "\n",
        "target_one_count = int(np.sum(targets)) #as we have 0s and 1s in target so sum of all targets will give us count of 1s\n",
        "#now traverse over data set and select indices to keep and the ones to delete.Start deleting when count for 0s becomes equal to count of 1s\n",
        "target_zero_count = 0\n",
        "indices_to_delete_for_balancing = []\n",
        "\n",
        "no_of_rows_in_data_set = data.shape[0] #gets us the number of rows in data set\n",
        "\n",
        "for i in range(no_of_rows_in_data_set):\n",
        "  if(targets[i] == 0):\n",
        "    target_zero_count += 1\n",
        "    if(target_zero_count > target_one_count):\n",
        "      indices_to_delete_for_balancing.append(i)\n",
        "      \n",
        "unscaled_but_balanced_data = data.drop(indices_to_delete_for_balancing, axis=0) #axis 0 as we want to delete rows\n",
        "balanced_targets = targets.drop(indices_to_delete_for_balancing,axis=0)"
      ],
      "execution_count": 0,
      "outputs": []
    },
    {
      "metadata": {
        "id": "BmgRam5YLO2O",
        "colab_type": "code",
        "colab": {
          "base_uri": "https://localhost:8080/",
          "height": 255
        },
        "outputId": "221af6e8-34db-4dce-b928-3093f5412c16"
      },
      "cell_type": "code",
      "source": [
        "#now that we have balanced data.\n",
        "#we shall then scale/standardize the data. but not dummy vars\n",
        "cols_to_scale =['Months','Day of Week','Transportation Expense','Distance to Work','Age','Daily Work Load Average','Body Mass Index','Children', 'Pets']\n",
        "\n",
        "scaled_and_balanced_data = unscaled_but_balanced_data.copy()\n",
        "scaled_and_balanced_data[cols_to_scale] = preprocessing.scale(unscaled_but_balanced_data[cols_to_scale]) #stadardizes all inputs. each column is treated as an array and then standardized\n",
        "scaled_and_balanced_data = scaled_and_balanced_data.reset_index(drop=True)\n",
        "balanced_targets = balanced_targets.reset_index(drop=True)\n",
        "scaled_and_balanced_data.head()"
      ],
      "execution_count": 341,
      "outputs": [
        {
          "output_type": "stream",
          "text": [
            "/usr/local/lib/python3.6/dist-packages/ipykernel_launcher.py:4: DataConversionWarning: Data with input dtype int64, float64 were all converted to float64 by the scale function.\n",
            "  after removing the cwd from sys.path.\n"
          ],
          "name": "stderr"
        },
        {
          "output_type": "execute_result",
          "data": {
            "text/html": [
              "<div>\n",
              "<style scoped>\n",
              "    .dataframe tbody tr th:only-of-type {\n",
              "        vertical-align: middle;\n",
              "    }\n",
              "\n",
              "    .dataframe tbody tr th {\n",
              "        vertical-align: top;\n",
              "    }\n",
              "\n",
              "    .dataframe thead th {\n",
              "        text-align: right;\n",
              "    }\n",
              "</style>\n",
              "<table border=\"1\" class=\"dataframe\">\n",
              "  <thead>\n",
              "    <tr style=\"text-align: right;\">\n",
              "      <th></th>\n",
              "      <th>Reason 1</th>\n",
              "      <th>Reason 2</th>\n",
              "      <th>Reason 3</th>\n",
              "      <th>Reason 4</th>\n",
              "      <th>Months</th>\n",
              "      <th>Day of Week</th>\n",
              "      <th>Transportation Expense</th>\n",
              "      <th>Distance to Work</th>\n",
              "      <th>Age</th>\n",
              "      <th>Daily Work Load Average</th>\n",
              "      <th>Body Mass Index</th>\n",
              "      <th>Education</th>\n",
              "      <th>Children</th>\n",
              "      <th>Pets</th>\n",
              "    </tr>\n",
              "  </thead>\n",
              "  <tbody>\n",
              "    <tr>\n",
              "      <th>0</th>\n",
              "      <td>0</td>\n",
              "      <td>0</td>\n",
              "      <td>0</td>\n",
              "      <td>1</td>\n",
              "      <td>0.102886</td>\n",
              "      <td>-0.676272</td>\n",
              "      <td>0.958760</td>\n",
              "      <td>0.418200</td>\n",
              "      <td>-0.530537</td>\n",
              "      <td>-0.890337</td>\n",
              "      <td>0.774218</td>\n",
              "      <td>0</td>\n",
              "      <td>0.827424</td>\n",
              "      <td>0.246039</td>\n",
              "    </tr>\n",
              "    <tr>\n",
              "      <th>1</th>\n",
              "      <td>0</td>\n",
              "      <td>0</td>\n",
              "      <td>0</td>\n",
              "      <td>0</td>\n",
              "      <td>0.102886</td>\n",
              "      <td>-0.676272</td>\n",
              "      <td>-1.591870</td>\n",
              "      <td>-1.138145</td>\n",
              "      <td>2.190129</td>\n",
              "      <td>-0.890337</td>\n",
              "      <td>1.012381</td>\n",
              "      <td>0</td>\n",
              "      <td>-0.058308</td>\n",
              "      <td>-0.597900</td>\n",
              "    </tr>\n",
              "    <tr>\n",
              "      <th>2</th>\n",
              "      <td>0</td>\n",
              "      <td>0</td>\n",
              "      <td>0</td>\n",
              "      <td>1</td>\n",
              "      <td>0.102886</td>\n",
              "      <td>-0.005259</td>\n",
              "      <td>-0.681996</td>\n",
              "      <td>1.433208</td>\n",
              "      <td>0.269658</td>\n",
              "      <td>-0.890337</td>\n",
              "      <td>1.012381</td>\n",
              "      <td>0</td>\n",
              "      <td>-0.944040</td>\n",
              "      <td>-0.597900</td>\n",
              "    </tr>\n",
              "    <tr>\n",
              "      <th>3</th>\n",
              "      <td>1</td>\n",
              "      <td>0</td>\n",
              "      <td>0</td>\n",
              "      <td>0</td>\n",
              "      <td>0.102886</td>\n",
              "      <td>0.665755</td>\n",
              "      <td>0.809600</td>\n",
              "      <td>-1.679483</td>\n",
              "      <td>0.429698</td>\n",
              "      <td>-0.890337</td>\n",
              "      <td>-0.654763</td>\n",
              "      <td>0</td>\n",
              "      <td>0.827424</td>\n",
              "      <td>-0.597900</td>\n",
              "    </tr>\n",
              "    <tr>\n",
              "      <th>4</th>\n",
              "      <td>0</td>\n",
              "      <td>0</td>\n",
              "      <td>0</td>\n",
              "      <td>1</td>\n",
              "      <td>0.102886</td>\n",
              "      <td>0.665755</td>\n",
              "      <td>0.958760</td>\n",
              "      <td>0.418200</td>\n",
              "      <td>-0.530537</td>\n",
              "      <td>-0.890337</td>\n",
              "      <td>0.774218</td>\n",
              "      <td>0</td>\n",
              "      <td>0.827424</td>\n",
              "      <td>0.246039</td>\n",
              "    </tr>\n",
              "  </tbody>\n",
              "</table>\n",
              "</div>"
            ],
            "text/plain": [
              "   Reason 1  Reason 2  Reason 3  Reason 4    Months  Day of Week  \\\n",
              "0         0         0         0         1  0.102886    -0.676272   \n",
              "1         0         0         0         0  0.102886    -0.676272   \n",
              "2         0         0         0         1  0.102886    -0.005259   \n",
              "3         1         0         0         0  0.102886     0.665755   \n",
              "4         0         0         0         1  0.102886     0.665755   \n",
              "\n",
              "   Transportation Expense  Distance to Work       Age  \\\n",
              "0                0.958760          0.418200 -0.530537   \n",
              "1               -1.591870         -1.138145  2.190129   \n",
              "2               -0.681996          1.433208  0.269658   \n",
              "3                0.809600         -1.679483  0.429698   \n",
              "4                0.958760          0.418200 -0.530537   \n",
              "\n",
              "   Daily Work Load Average  Body Mass Index  Education  Children      Pets  \n",
              "0                -0.890337         0.774218          0  0.827424  0.246039  \n",
              "1                -0.890337         1.012381          0 -0.058308 -0.597900  \n",
              "2                -0.890337         1.012381          0 -0.944040 -0.597900  \n",
              "3                -0.890337        -0.654763          0  0.827424 -0.597900  \n",
              "4                -0.890337         0.774218          0  0.827424  0.246039  "
            ]
          },
          "metadata": {
            "tags": []
          },
          "execution_count": 341
        }
      ]
    },
    {
      "metadata": {
        "id": "28W7GaiVOBUv",
        "colab_type": "code",
        "colab": {
          "base_uri": "https://localhost:8080/",
          "height": 221
        },
        "outputId": "62e0a94d-a0d5-471a-a433-ff2d625b3218"
      },
      "cell_type": "code",
      "source": [
        "#merging targets to scaled_and_balanced_data so that shuffling keeps relationship between rows and target\n",
        "scaled_and_balanced_data['Targets'] = balanced_targets\n",
        "shuffled_scaled_and_balanced_data  = shuffle(scaled_and_balanced_data)\n",
        "shuffled_balanced_targets = shuffled_scaled_and_balanced_data['Targets']\n",
        "shuffled_balanced_targets.unique()\n",
        "shuffled_scaled_and_balanced_data = shuffled_scaled_and_balanced_data.drop(['Targets'],axis=1)\n",
        "shuffled_scaled_and_balanced_data.head()"
      ],
      "execution_count": 342,
      "outputs": [
        {
          "output_type": "execute_result",
          "data": {
            "text/html": [
              "<div>\n",
              "<style scoped>\n",
              "    .dataframe tbody tr th:only-of-type {\n",
              "        vertical-align: middle;\n",
              "    }\n",
              "\n",
              "    .dataframe tbody tr th {\n",
              "        vertical-align: top;\n",
              "    }\n",
              "\n",
              "    .dataframe thead th {\n",
              "        text-align: right;\n",
              "    }\n",
              "</style>\n",
              "<table border=\"1\" class=\"dataframe\">\n",
              "  <thead>\n",
              "    <tr style=\"text-align: right;\">\n",
              "      <th></th>\n",
              "      <th>Reason 1</th>\n",
              "      <th>Reason 2</th>\n",
              "      <th>Reason 3</th>\n",
              "      <th>Reason 4</th>\n",
              "      <th>Months</th>\n",
              "      <th>Day of Week</th>\n",
              "      <th>Transportation Expense</th>\n",
              "      <th>Distance to Work</th>\n",
              "      <th>Age</th>\n",
              "      <th>Daily Work Load Average</th>\n",
              "      <th>Body Mass Index</th>\n",
              "      <th>Education</th>\n",
              "      <th>Children</th>\n",
              "      <th>Pets</th>\n",
              "    </tr>\n",
              "  </thead>\n",
              "  <tbody>\n",
              "    <tr>\n",
              "      <th>556</th>\n",
              "      <td>0</td>\n",
              "      <td>0</td>\n",
              "      <td>0</td>\n",
              "      <td>1</td>\n",
              "      <td>1.517576</td>\n",
              "      <td>-0.005259</td>\n",
              "      <td>0.988591</td>\n",
              "      <td>0.079864</td>\n",
              "      <td>0.589737</td>\n",
              "      <td>0.133662</td>\n",
              "      <td>-0.416599</td>\n",
              "      <td>0</td>\n",
              "      <td>-0.058308</td>\n",
              "      <td>0.246039</td>\n",
              "    </tr>\n",
              "    <tr>\n",
              "      <th>542</th>\n",
              "      <td>1</td>\n",
              "      <td>0</td>\n",
              "      <td>0</td>\n",
              "      <td>0</td>\n",
              "      <td>1.234638</td>\n",
              "      <td>0.665755</td>\n",
              "      <td>-1.591870</td>\n",
              "      <td>-1.341147</td>\n",
              "      <td>0.109619</td>\n",
              "      <td>-0.166831</td>\n",
              "      <td>0.297891</td>\n",
              "      <td>0</td>\n",
              "      <td>-0.944040</td>\n",
              "      <td>-0.597900</td>\n",
              "    </tr>\n",
              "    <tr>\n",
              "      <th>318</th>\n",
              "      <td>0</td>\n",
              "      <td>0</td>\n",
              "      <td>0</td>\n",
              "      <td>1</td>\n",
              "      <td>1.234638</td>\n",
              "      <td>-1.347286</td>\n",
              "      <td>0.347205</td>\n",
              "      <td>-0.326139</td>\n",
              "      <td>1.710011</td>\n",
              "      <td>0.220638</td>\n",
              "      <td>1.250545</td>\n",
              "      <td>0</td>\n",
              "      <td>0.827424</td>\n",
              "      <td>0.246039</td>\n",
              "    </tr>\n",
              "    <tr>\n",
              "      <th>126</th>\n",
              "      <td>0</td>\n",
              "      <td>0</td>\n",
              "      <td>0</td>\n",
              "      <td>1</td>\n",
              "      <td>-1.594741</td>\n",
              "      <td>1.336769</td>\n",
              "      <td>-1.591870</td>\n",
              "      <td>-1.341147</td>\n",
              "      <td>0.109619</td>\n",
              "      <td>0.834163</td>\n",
              "      <td>0.297891</td>\n",
              "      <td>0</td>\n",
              "      <td>-0.944040</td>\n",
              "      <td>-0.597900</td>\n",
              "    </tr>\n",
              "    <tr>\n",
              "      <th>152</th>\n",
              "      <td>0</td>\n",
              "      <td>0</td>\n",
              "      <td>0</td>\n",
              "      <td>1</td>\n",
              "      <td>-1.311803</td>\n",
              "      <td>-0.676272</td>\n",
              "      <td>1.570314</td>\n",
              "      <td>-0.935144</td>\n",
              "      <td>-1.330733</td>\n",
              "      <td>0.684092</td>\n",
              "      <td>-0.416599</td>\n",
              "      <td>1</td>\n",
              "      <td>-0.944040</td>\n",
              "      <td>-0.597900</td>\n",
              "    </tr>\n",
              "  </tbody>\n",
              "</table>\n",
              "</div>"
            ],
            "text/plain": [
              "     Reason 1  Reason 2  Reason 3  Reason 4    Months  Day of Week  \\\n",
              "556         0         0         0         1  1.517576    -0.005259   \n",
              "542         1         0         0         0  1.234638     0.665755   \n",
              "318         0         0         0         1  1.234638    -1.347286   \n",
              "126         0         0         0         1 -1.594741     1.336769   \n",
              "152         0         0         0         1 -1.311803    -0.676272   \n",
              "\n",
              "     Transportation Expense  Distance to Work       Age  \\\n",
              "556                0.988591          0.079864  0.589737   \n",
              "542               -1.591870         -1.341147  0.109619   \n",
              "318                0.347205         -0.326139  1.710011   \n",
              "126               -1.591870         -1.341147  0.109619   \n",
              "152                1.570314         -0.935144 -1.330733   \n",
              "\n",
              "     Daily Work Load Average  Body Mass Index  Education  Children      Pets  \n",
              "556                 0.133662        -0.416599          0 -0.058308  0.246039  \n",
              "542                -0.166831         0.297891          0 -0.944040 -0.597900  \n",
              "318                 0.220638         1.250545          0  0.827424  0.246039  \n",
              "126                 0.834163         0.297891          0 -0.944040 -0.597900  \n",
              "152                 0.684092        -0.416599          1 -0.944040 -0.597900  "
            ]
          },
          "metadata": {
            "tags": []
          },
          "execution_count": 342
        }
      ]
    },
    {
      "metadata": {
        "id": "zx161QZYOgpN",
        "colab_type": "code",
        "colab": {
          "base_uri": "https://localhost:8080/",
          "height": 119
        },
        "outputId": "243680f1-15b0-456f-d64c-30325f5f361d"
      },
      "cell_type": "code",
      "source": [
        "shuffled_balanced_targets.head()"
      ],
      "execution_count": 343,
      "outputs": [
        {
          "output_type": "execute_result",
          "data": {
            "text/plain": [
              "556    0\n",
              "542    0\n",
              "318    0\n",
              "126    0\n",
              "152    0\n",
              "Name: Targets, dtype: int64"
            ]
          },
          "metadata": {
            "tags": []
          },
          "execution_count": 343
        }
      ]
    },
    {
      "metadata": {
        "id": "aP_2U42CTq0A",
        "colab_type": "code",
        "colab": {
          "base_uri": "https://localhost:8080/",
          "height": 85
        },
        "outputId": "463e20f6-6297-4156-dd8a-876c3802e7ea"
      },
      "cell_type": "code",
      "source": [
        "#split into training, validation and test\n",
        "sample_count_of_preprocess_data = shuffled_scaled_and_balanced_data.shape[0]\n",
        "\n",
        "training_sample_count = int(0.8*sample_count_of_preprocess_data)\n",
        "validation_sample_count = int(0.1*sample_count_of_preprocess_data)\n",
        "test_sample_count = sample_count_of_preprocess_data - training_sample_count - validation_sample_count\n",
        "\n",
        "#time to divide data into these training, validation and test\n",
        "training_data = shuffled_scaled_and_balanced_data[:training_sample_count] #start to training_sample_count\n",
        "validation_data = shuffled_scaled_and_balanced_data[training_sample_count : training_sample_count + validation_sample_count]\n",
        "test_data = shuffled_scaled_and_balanced_data[training_sample_count + validation_sample_count : ] #everything that is left\n",
        "\n",
        "training_targets = shuffled_balanced_targets[:training_sample_count]\n",
        "validation_targets = shuffled_balanced_targets[training_sample_count : training_sample_count + validation_sample_count]\n",
        "test_targets = shuffled_balanced_targets[training_sample_count + validation_sample_count :]\n",
        "\n",
        "#since we have balanced the data before spliting, it is a good idea to check here if the splitted data are balanced too. should be close to 50% for each seta s we only have 2 categories\n",
        "print(\"% of 1s in training data: \" + str(np.sum(training_targets)/training_sample_count))\n",
        "print(\"% of 1s in validation data: \" + str(np.sum(validation_targets)/validation_sample_count))\n",
        "print(\"% of 1s in test data: \" + str(np.sum(test_targets)/test_sample_count))\n",
        "\n",
        "#also that the total count adds up\n",
        "print(\"total: \" + str(training_sample_count + validation_sample_count + test_sample_count))"
      ],
      "execution_count": 344,
      "outputs": [
        {
          "output_type": "stream",
          "text": [
            "% of 1s in training data: 0.492156862745098\n",
            "% of 1s in validation data: 0.6190476190476191\n",
            "% of 1s in test data: 0.4461538461538462\n",
            "total: 638\n"
          ],
          "name": "stdout"
        }
      ]
    },
    {
      "metadata": {
        "id": "bnBDGl2tUJkG",
        "colab_type": "code",
        "colab": {}
      },
      "cell_type": "code",
      "source": [
        "#save 3 data sets in npz files\n",
        "np.savez('Absenteeism_Training_Data.npz',inputs=training_data, targets = training_targets)\n",
        "np.savez('Absenteeism_Validation_Data.npz',inputs=validation_data, targets = validation_targets)\n",
        "np.savez('Absenteeism_Test_Data.npz',inputs=test_data, targets = test_targets)\n",
        "#data now is preprocessed. So pre processing complete"
      ],
      "execution_count": 0,
      "outputs": []
    },
    {
      "metadata": {
        "id": "UnZQ90BFUXEG",
        "colab_type": "text"
      },
      "cell_type": "markdown",
      "source": [
        "##Model"
      ]
    },
    {
      "metadata": {
        "id": "jyCvgjMqUQ0k",
        "colab_type": "code",
        "colab": {}
      },
      "cell_type": "code",
      "source": [
        "# Create a class that will do the batching for the algorithm\n",
        "# This code is extremely reusable. You should just change Audiobooks_data everywhere in the code\n",
        "class Data_Reader():\n",
        "    # Dataset is a mandatory arugment, while the batch_size is optional\n",
        "    # If you don't input batch_size, it will automatically take the value: None\n",
        "    def __init__(self, dataset, batch_size = None):\n",
        "    \n",
        "        # The dataset that loads is one of \"train\", \"validation\", \"test\".\n",
        "        # e.g. if I call this class with x('train',5), it will load 'Audiobooks_data_train.npz' with a batch size of 5.\n",
        "        npz = np.load('Absenteeism_{0}_Data.npz'.format(dataset))\n",
        "        \n",
        "        # Two variables that take the values of the inputs and the targets. Inputs are floats, targets are integers\n",
        "        self.inputs, self.targets = npz['inputs'].astype(np.float), npz['targets'].astype(np.int)\n",
        "        \n",
        "        # Counts the batch number, given the size you feed it later\n",
        "        # If the batch size is None, we are either validating or testing, so we want to take the data in a single batch\n",
        "        if batch_size is None:\n",
        "            self.batch_size = self.inputs.shape[0]\n",
        "        else:\n",
        "            self.batch_size = batch_size\n",
        "        self.curr_batch = 0\n",
        "        self.batch_count = self.inputs.shape[0] // self.batch_size\n",
        "    \n",
        "    # A method which loads the next batch\n",
        "    def __next__(self):\n",
        "        if self.curr_batch >= self.batch_count:\n",
        "            self.curr_batch = 0\n",
        "            raise StopIteration()\n",
        "            \n",
        "        # You slice the dataset in batches and then the \"next\" function loads them one after the other\n",
        "        batch_slice = slice(self.curr_batch * self.batch_size, (self.curr_batch + 1) * self.batch_size)\n",
        "        inputs_batch = self.inputs[batch_slice]\n",
        "        targets_batch = self.targets[batch_slice]\n",
        "        self.curr_batch += 1\n",
        "        \n",
        "        # One-hot encode the targets. In this example it's a bit superfluous since we have a 0/1 column \n",
        "        # as a target already but we're giving you the code regardless, as it will be useful for any \n",
        "        # classification task with more than one target column\n",
        "        classes_num = 2\n",
        "        targets_one_hot = np.zeros((targets_batch.shape[0], classes_num))\n",
        "        targets_one_hot[range(targets_batch.shape[0]), targets_batch] = 1\n",
        "        \n",
        "        # The function will return the inputs batch and the one-hot encoded targets\n",
        "        return inputs_batch, targets_one_hot\n",
        "    \n",
        "        \n",
        "    # A method needed for iterating over the batches, as we will put them in a loop\n",
        "    # This tells Python that the class we're defining is iterable, i.e. that we can use it like:\n",
        "    # for input, output in data: \n",
        "        # do things\n",
        "    # An iterator in Python is a class with a method __next__ that defines exactly how to iterate through its objects\n",
        "    def __iter__(self):\n",
        "        return self"
      ],
      "execution_count": 0,
      "outputs": []
    },
    {
      "metadata": {
        "id": "uRk_Jrm9Uwyh",
        "colab_type": "code",
        "colab": {}
      },
      "cell_type": "code",
      "source": [
        "#model\n",
        "\n",
        "input_size = 14\n",
        "output_size = 2\n",
        "hidden_layer_size = 50\n",
        "\n",
        "tf.reset_default_graph()\n",
        "\n",
        "inputs_placeholder = tf.placeholder(tf.float32,[None,input_size])\n",
        "targets_placeholder = tf.placeholder(tf.float32,[None,output_size])\n",
        "\n",
        "#hidden layer 1\n",
        "weights_1 = tf.get_variable(\"weigths_1\",[input_size,hidden_layer_size]) #if initialized this way, the default initializer is xavier\n",
        "biases_1 = tf.get_variable(\"biases_1\",[hidden_layer_size])\n",
        "output_1 = tf.nn.tanh(tf.matmul(inputs_placeholder,weights_1) + biases_1)\n",
        "\n",
        "\n",
        "#output layer\n",
        "weights_2 = tf.get_variable(\"weigths_2\",[hidden_layer_size,output_size]) #if initialized this way, the default initializer is xavier\n",
        "biases_2 = tf.get_variable(\"biases_2\",[output_size])\n",
        "outputs = tf.matmul(output_1,weights_2) + biases_2"
      ],
      "execution_count": 0,
      "outputs": []
    },
    {
      "metadata": {
        "id": "Q9PoTLCHjl02",
        "colab_type": "code",
        "colab": {
          "base_uri": "https://localhost:8080/",
          "height": 34
        },
        "outputId": "ddcb34a8-8cc3-43f3-a1f3-ee3ba06d3b82"
      },
      "cell_type": "code",
      "source": [
        "outputs"
      ],
      "execution_count": 348,
      "outputs": [
        {
          "output_type": "execute_result",
          "data": {
            "text/plain": [
              "<tf.Tensor 'add_1:0' shape=(?, 2) dtype=float32>"
            ]
          },
          "metadata": {
            "tags": []
          },
          "execution_count": 348
        }
      ]
    },
    {
      "metadata": {
        "id": "0Eh2fYKQWIXR",
        "colab_type": "code",
        "colab": {}
      },
      "cell_type": "code",
      "source": [
        "#calculate loss/delta\n",
        "loss = tf.nn.softmax_cross_entropy_with_logits(logits=outputs,labels=targets_placeholder)\n",
        "\n",
        "mean_loss = tf.reduce_mean(loss)"
      ],
      "execution_count": 0,
      "outputs": []
    },
    {
      "metadata": {
        "id": "nNKYABauWP3F",
        "colab_type": "code",
        "colab": {}
      },
      "cell_type": "code",
      "source": [
        "#optimize\n",
        "learning_rate = 0.001\n",
        "optimize = tf.train.AdamOptimizer(learning_rate = learning_rate).minimize(mean_loss)"
      ],
      "execution_count": 0,
      "outputs": []
    },
    {
      "metadata": {
        "id": "aD3ffhBbWXiF",
        "colab_type": "code",
        "colab": {}
      },
      "cell_type": "code",
      "source": [
        "#test accuracy\n",
        "out_equals_target = tf.equal(tf.argmax(outputs,1),tf.argmax(targets_placeholder,1))\n",
        "#out_equals_target is a vector containing 1 if accurately predcted else 0. the accuracy is the mean of this vector\n",
        "accuracy = tf.reduce_mean(tf.cast(out_equals_target,tf.float32))"
      ],
      "execution_count": 0,
      "outputs": []
    },
    {
      "metadata": {
        "id": "Hm0eimq4Wh_p",
        "colab_type": "code",
        "colab": {
          "base_uri": "https://localhost:8080/",
          "height": 71
        },
        "outputId": "b3a55fcf-d3f2-451a-93f0-4e1e40bd103e"
      },
      "cell_type": "code",
      "source": [
        "#session\n",
        "session = tf.InteractiveSession()\n",
        "#initializer\n",
        "initializer=tf.global_variables_initializer()\n",
        "session.run(initializer)"
      ],
      "execution_count": 352,
      "outputs": [
        {
          "output_type": "stream",
          "text": [
            "/usr/local/lib/python3.6/dist-packages/tensorflow/python/client/session.py:1702: UserWarning: An interactive session is already active. This can cause out-of-memory errors in some cases. You must explicitly call `InteractiveSession.close()` to release resources held by the other session(s).\n",
            "  warnings.warn('An interactive session is already active. This can '\n"
          ],
          "name": "stderr"
        }
      ]
    },
    {
      "metadata": {
        "id": "oQhjlGc5WvPE",
        "colab_type": "code",
        "colab": {}
      },
      "cell_type": "code",
      "source": [
        "#batching\n",
        "batch_size = 50\n",
        "#batch number is handled in Data_Reader class\n",
        "max_epoch = 100\n",
        "prev_validation_loss = 9999999999.\n",
        "\n",
        "#get data\n",
        "training_df = Data_Reader('Training',batch_size)\n",
        "validation_df = Data_Reader('Validation',batch_size)"
      ],
      "execution_count": 0,
      "outputs": []
    },
    {
      "metadata": {
        "id": "Hqm-ZLBFW4Sk",
        "colab_type": "code",
        "colab": {
          "base_uri": "https://localhost:8080/",
          "height": 1734
        },
        "outputId": "90e3dd32-9a4a-4cb4-97e2-d7ea8c0d4b48"
      },
      "cell_type": "code",
      "source": [
        "\n",
        "#train model\n",
        "for epoch in range(max_epoch):\n",
        "  curr_epoch_loss = 0\n",
        "  #train\n",
        "  for input_batch, target_batch in training_df:\n",
        "    _, batch_loss = session.run([optimize,mean_loss], feed_dict = {inputs_placeholder: input_batch, targets_placeholder:target_batch})\n",
        "    curr_epoch_loss += batch_loss\n",
        "  \n",
        "  curr_epoch_loss /= training_df.batch_count\n",
        "  \n",
        "  #validate\n",
        "  validation_loss = 0.\n",
        "  validation_accuracy = 0.\n",
        "  for input_batch, target_batch in validation_df: #this will always have a single iteration but easy way to get input and target batches\n",
        "    validation_loss, validation_accuracy = session.run([mean_loss,accuracy], feed_dict = {inputs_placeholder: input_batch, targets_placeholder:target_batch})\n",
        "  \n",
        "  \n",
        "  print('Epoch '+str(epoch+1)\n",
        "         + '. Training loss: '+'{0:.3f}'.format(curr_epoch_loss)\n",
        "         +'. Validation loss: '+'{0:.3f}'.format(validation_loss)\n",
        "         +'. Validation accuracy: '+'{0:.2f}'.format(validation_accuracy * 100.)+'%')\n",
        "  #early stop\n",
        "  if validation_loss > prev_validation_loss:\n",
        "    break\n",
        "    \n",
        "  prev_validation_loss = validation_loss\n",
        "  \n",
        "print('End of Training')"
      ],
      "execution_count": 354,
      "outputs": [
        {
          "output_type": "stream",
          "text": [
            "Epoch 1. Training loss: 0.754. Validation loss: 0.613. Validation accuracy: 66.00%\n",
            "Epoch 2. Training loss: 0.689. Validation loss: 0.572. Validation accuracy: 76.00%\n",
            "Epoch 3. Training loss: 0.647. Validation loss: 0.553. Validation accuracy: 78.00%\n",
            "Epoch 4. Training loss: 0.618. Validation loss: 0.545. Validation accuracy: 74.00%\n",
            "Epoch 5. Training loss: 0.599. Validation loss: 0.542. Validation accuracy: 74.00%\n",
            "Epoch 6. Training loss: 0.584. Validation loss: 0.540. Validation accuracy: 72.00%\n",
            "Epoch 7. Training loss: 0.573. Validation loss: 0.538. Validation accuracy: 74.00%\n",
            "Epoch 8. Training loss: 0.564. Validation loss: 0.536. Validation accuracy: 72.00%\n",
            "Epoch 9. Training loss: 0.557. Validation loss: 0.535. Validation accuracy: 72.00%\n",
            "Epoch 10. Training loss: 0.552. Validation loss: 0.534. Validation accuracy: 72.00%\n",
            "Epoch 11. Training loss: 0.547. Validation loss: 0.534. Validation accuracy: 72.00%\n",
            "Epoch 12. Training loss: 0.544. Validation loss: 0.533. Validation accuracy: 72.00%\n",
            "Epoch 13. Training loss: 0.541. Validation loss: 0.533. Validation accuracy: 72.00%\n",
            "Epoch 14. Training loss: 0.538. Validation loss: 0.533. Validation accuracy: 72.00%\n",
            "Epoch 15. Training loss: 0.536. Validation loss: 0.532. Validation accuracy: 74.00%\n",
            "Epoch 16. Training loss: 0.534. Validation loss: 0.532. Validation accuracy: 74.00%\n",
            "Epoch 17. Training loss: 0.532. Validation loss: 0.531. Validation accuracy: 74.00%\n",
            "Epoch 18. Training loss: 0.530. Validation loss: 0.531. Validation accuracy: 74.00%\n",
            "Epoch 19. Training loss: 0.529. Validation loss: 0.530. Validation accuracy: 74.00%\n",
            "Epoch 20. Training loss: 0.527. Validation loss: 0.529. Validation accuracy: 74.00%\n",
            "Epoch 21. Training loss: 0.526. Validation loss: 0.528. Validation accuracy: 74.00%\n",
            "Epoch 22. Training loss: 0.524. Validation loss: 0.528. Validation accuracy: 74.00%\n",
            "Epoch 23. Training loss: 0.523. Validation loss: 0.527. Validation accuracy: 74.00%\n",
            "Epoch 24. Training loss: 0.521. Validation loss: 0.526. Validation accuracy: 74.00%\n",
            "Epoch 25. Training loss: 0.520. Validation loss: 0.525. Validation accuracy: 74.00%\n",
            "Epoch 26. Training loss: 0.519. Validation loss: 0.524. Validation accuracy: 74.00%\n",
            "Epoch 27. Training loss: 0.517. Validation loss: 0.523. Validation accuracy: 74.00%\n",
            "Epoch 28. Training loss: 0.516. Validation loss: 0.523. Validation accuracy: 74.00%\n",
            "Epoch 29. Training loss: 0.515. Validation loss: 0.522. Validation accuracy: 74.00%\n",
            "Epoch 30. Training loss: 0.513. Validation loss: 0.521. Validation accuracy: 74.00%\n",
            "Epoch 31. Training loss: 0.512. Validation loss: 0.520. Validation accuracy: 74.00%\n",
            "Epoch 32. Training loss: 0.510. Validation loss: 0.519. Validation accuracy: 74.00%\n",
            "Epoch 33. Training loss: 0.509. Validation loss: 0.518. Validation accuracy: 74.00%\n",
            "Epoch 34. Training loss: 0.508. Validation loss: 0.517. Validation accuracy: 74.00%\n",
            "Epoch 35. Training loss: 0.506. Validation loss: 0.516. Validation accuracy: 74.00%\n",
            "Epoch 36. Training loss: 0.505. Validation loss: 0.516. Validation accuracy: 74.00%\n",
            "Epoch 37. Training loss: 0.504. Validation loss: 0.515. Validation accuracy: 74.00%\n",
            "Epoch 38. Training loss: 0.502. Validation loss: 0.514. Validation accuracy: 74.00%\n",
            "Epoch 39. Training loss: 0.501. Validation loss: 0.513. Validation accuracy: 74.00%\n",
            "Epoch 40. Training loss: 0.499. Validation loss: 0.512. Validation accuracy: 74.00%\n",
            "Epoch 41. Training loss: 0.498. Validation loss: 0.511. Validation accuracy: 74.00%\n",
            "Epoch 42. Training loss: 0.497. Validation loss: 0.510. Validation accuracy: 74.00%\n",
            "Epoch 43. Training loss: 0.495. Validation loss: 0.509. Validation accuracy: 74.00%\n",
            "Epoch 44. Training loss: 0.494. Validation loss: 0.509. Validation accuracy: 74.00%\n",
            "Epoch 45. Training loss: 0.493. Validation loss: 0.508. Validation accuracy: 74.00%\n",
            "Epoch 46. Training loss: 0.491. Validation loss: 0.507. Validation accuracy: 74.00%\n",
            "Epoch 47. Training loss: 0.490. Validation loss: 0.506. Validation accuracy: 74.00%\n",
            "Epoch 48. Training loss: 0.488. Validation loss: 0.505. Validation accuracy: 74.00%\n",
            "Epoch 49. Training loss: 0.487. Validation loss: 0.504. Validation accuracy: 74.00%\n",
            "Epoch 50. Training loss: 0.486. Validation loss: 0.503. Validation accuracy: 74.00%\n",
            "Epoch 51. Training loss: 0.484. Validation loss: 0.503. Validation accuracy: 74.00%\n",
            "Epoch 52. Training loss: 0.483. Validation loss: 0.502. Validation accuracy: 74.00%\n",
            "Epoch 53. Training loss: 0.482. Validation loss: 0.501. Validation accuracy: 74.00%\n",
            "Epoch 54. Training loss: 0.480. Validation loss: 0.500. Validation accuracy: 74.00%\n",
            "Epoch 55. Training loss: 0.479. Validation loss: 0.499. Validation accuracy: 74.00%\n",
            "Epoch 56. Training loss: 0.478. Validation loss: 0.499. Validation accuracy: 74.00%\n",
            "Epoch 57. Training loss: 0.476. Validation loss: 0.498. Validation accuracy: 74.00%\n",
            "Epoch 58. Training loss: 0.475. Validation loss: 0.497. Validation accuracy: 74.00%\n",
            "Epoch 59. Training loss: 0.473. Validation loss: 0.496. Validation accuracy: 74.00%\n",
            "Epoch 60. Training loss: 0.472. Validation loss: 0.495. Validation accuracy: 74.00%\n",
            "Epoch 61. Training loss: 0.471. Validation loss: 0.495. Validation accuracy: 74.00%\n",
            "Epoch 62. Training loss: 0.469. Validation loss: 0.494. Validation accuracy: 74.00%\n",
            "Epoch 63. Training loss: 0.468. Validation loss: 0.493. Validation accuracy: 76.00%\n",
            "Epoch 64. Training loss: 0.467. Validation loss: 0.492. Validation accuracy: 76.00%\n",
            "Epoch 65. Training loss: 0.465. Validation loss: 0.492. Validation accuracy: 76.00%\n",
            "Epoch 66. Training loss: 0.464. Validation loss: 0.491. Validation accuracy: 76.00%\n",
            "Epoch 67. Training loss: 0.463. Validation loss: 0.490. Validation accuracy: 76.00%\n",
            "Epoch 68. Training loss: 0.462. Validation loss: 0.489. Validation accuracy: 78.00%\n",
            "Epoch 69. Training loss: 0.460. Validation loss: 0.489. Validation accuracy: 78.00%\n",
            "Epoch 70. Training loss: 0.459. Validation loss: 0.488. Validation accuracy: 80.00%\n",
            "Epoch 71. Training loss: 0.458. Validation loss: 0.487. Validation accuracy: 80.00%\n",
            "Epoch 72. Training loss: 0.456. Validation loss: 0.487. Validation accuracy: 80.00%\n",
            "Epoch 73. Training loss: 0.455. Validation loss: 0.486. Validation accuracy: 80.00%\n",
            "Epoch 74. Training loss: 0.454. Validation loss: 0.485. Validation accuracy: 80.00%\n",
            "Epoch 75. Training loss: 0.453. Validation loss: 0.485. Validation accuracy: 80.00%\n",
            "Epoch 76. Training loss: 0.451. Validation loss: 0.484. Validation accuracy: 80.00%\n",
            "Epoch 77. Training loss: 0.450. Validation loss: 0.483. Validation accuracy: 80.00%\n",
            "Epoch 78. Training loss: 0.449. Validation loss: 0.483. Validation accuracy: 80.00%\n",
            "Epoch 79. Training loss: 0.448. Validation loss: 0.482. Validation accuracy: 80.00%\n",
            "Epoch 80. Training loss: 0.446. Validation loss: 0.481. Validation accuracy: 80.00%\n",
            "Epoch 81. Training loss: 0.445. Validation loss: 0.481. Validation accuracy: 80.00%\n",
            "Epoch 82. Training loss: 0.444. Validation loss: 0.480. Validation accuracy: 80.00%\n",
            "Epoch 83. Training loss: 0.443. Validation loss: 0.480. Validation accuracy: 80.00%\n",
            "Epoch 84. Training loss: 0.442. Validation loss: 0.479. Validation accuracy: 80.00%\n",
            "Epoch 85. Training loss: 0.441. Validation loss: 0.478. Validation accuracy: 80.00%\n",
            "Epoch 86. Training loss: 0.439. Validation loss: 0.478. Validation accuracy: 80.00%\n",
            "Epoch 87. Training loss: 0.438. Validation loss: 0.477. Validation accuracy: 80.00%\n",
            "Epoch 88. Training loss: 0.437. Validation loss: 0.477. Validation accuracy: 80.00%\n",
            "Epoch 89. Training loss: 0.436. Validation loss: 0.476. Validation accuracy: 80.00%\n",
            "Epoch 90. Training loss: 0.435. Validation loss: 0.476. Validation accuracy: 80.00%\n",
            "Epoch 91. Training loss: 0.434. Validation loss: 0.475. Validation accuracy: 80.00%\n",
            "Epoch 92. Training loss: 0.432. Validation loss: 0.475. Validation accuracy: 80.00%\n",
            "Epoch 93. Training loss: 0.431. Validation loss: 0.474. Validation accuracy: 80.00%\n",
            "Epoch 94. Training loss: 0.430. Validation loss: 0.474. Validation accuracy: 80.00%\n",
            "Epoch 95. Training loss: 0.429. Validation loss: 0.473. Validation accuracy: 80.00%\n",
            "Epoch 96. Training loss: 0.428. Validation loss: 0.473. Validation accuracy: 82.00%\n",
            "Epoch 97. Training loss: 0.427. Validation loss: 0.472. Validation accuracy: 82.00%\n",
            "Epoch 98. Training loss: 0.426. Validation loss: 0.472. Validation accuracy: 82.00%\n",
            "Epoch 99. Training loss: 0.425. Validation loss: 0.471. Validation accuracy: 82.00%\n",
            "Epoch 100. Training loss: 0.424. Validation loss: 0.471. Validation accuracy: 82.00%\n",
            "End of Training\n"
          ],
          "name": "stdout"
        }
      ]
    },
    {
      "metadata": {
        "id": "SjFCXPfPcPna",
        "colab_type": "code",
        "colab": {
          "base_uri": "https://localhost:8080/",
          "height": 34
        },
        "outputId": "cf3f0eb1-a4ed-41bf-c987-3a11c242e986"
      },
      "cell_type": "code",
      "source": [
        "#test the model\n",
        "test_data = Data_Reader('Test',batch_size)\n",
        "for input_batch, target_batch in test_data: \n",
        "  test_accuracy = session.run([accuracy], feed_dict = {inputs_placeholder: input_batch, targets_placeholder:target_batch})\n",
        "    \n",
        "print('{0:3f}'.format(test_accuracy[0]*100) + '%')"
      ],
      "execution_count": 355,
      "outputs": [
        {
          "output_type": "stream",
          "text": [
            "72.000003%\n"
          ],
          "name": "stdout"
        }
      ]
    },
    {
      "metadata": {
        "id": "H48uriQulLpg",
        "colab_type": "code",
        "colab": {}
      },
      "cell_type": "code",
      "source": [
        ""
      ],
      "execution_count": 0,
      "outputs": []
    }
  ]
}