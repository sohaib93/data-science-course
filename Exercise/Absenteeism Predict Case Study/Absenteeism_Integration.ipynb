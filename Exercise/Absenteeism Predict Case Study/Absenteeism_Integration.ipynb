{
 "cells": [
  {
   "cell_type": "code",
   "execution_count": 1,
   "metadata": {},
   "outputs": [],
   "source": [
    "from absenteeism_module import *"
   ]
  },
  {
   "cell_type": "code",
   "execution_count": 3,
   "metadata": {},
   "outputs": [
    {
     "name": "stderr",
     "output_type": "stream",
     "text": [
      "C:\\Users\\t899033\\Desktop\\Personal\\Courses and Trainings\\The Data Science Course 2018 - All Resources\\Exercises\\Python\\Exercise\\Absenteeism Predict Case Study\\absenteeism_module.py:87: DataConversionWarning: Data with input dtype int64 were all converted to float64 by StandardScaler.\n",
      "  dataframe_reasons_date_merged[cols_to_scale] = self.scaler.transform(dataframe_reasons_date_merged[cols_to_scale])\n"
     ]
    }
   ],
   "source": [
    "model = absenteeism_model('absenteeism_logistic_regression','absenteeism_scaler')\n",
    "model.load_and_clean_data('Absenteeism_new_data.csv')\n",
    "model.predicted_outputs().to_csv('Absenteeism_predictions.csv', index = False)"
   ]
  }
 ],
 "metadata": {
  "kernelspec": {
   "display_name": "Python 3",
   "language": "python",
   "name": "python3"
  },
  "language_info": {
   "codemirror_mode": {
    "name": "ipython",
    "version": 3
   },
   "file_extension": ".py",
   "mimetype": "text/x-python",
   "name": "python",
   "nbconvert_exporter": "python",
   "pygments_lexer": "ipython3",
   "version": "3.6.0"
  }
 },
 "nbformat": 4,
 "nbformat_minor": 2
}
