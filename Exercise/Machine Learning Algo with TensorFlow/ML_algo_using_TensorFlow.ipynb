{
  "nbformat": 4,
  "nbformat_minor": 0,
  "metadata": {
    "colab": {
      "name": "ML algo using TensorFlow",
      "version": "0.3.2",
      "provenance": [],
      "collapsed_sections": []
    },
    "kernelspec": {
      "name": "python3",
      "display_name": "Python 3"
    }
  },
  "cells": [
    {
      "metadata": {
        "id": "QMX6phpMSptv",
        "colab_type": "code",
        "colab": {}
      },
      "cell_type": "code",
      "source": [
        "## ML Algo with TensorFlow"
      ],
      "execution_count": 0,
      "outputs": []
    },
    {
      "metadata": {
        "id": "FuJRhls_Sue1",
        "colab_type": "code",
        "colab": {}
      },
      "cell_type": "code",
      "source": [
        "import numpy as np  \n",
        "import matplotlib.pyplot as plt\n",
        "import tensorflow as tf"
      ],
      "execution_count": 0,
      "outputs": []
    },
    {
      "metadata": {
        "id": "sPYuEndmS8OP",
        "colab_type": "code",
        "colab": {}
      },
      "cell_type": "code",
      "source": [
        "no_of_observations = 1000\n",
        "\n",
        "x1 = np.random.uniform(-10,10,size = (no_of_observations,1)) #the size of this vector x1 should be (no of obs x 1)\n",
        "x2 = np.random.uniform(-10,10,size = (no_of_observations,1))\n",
        "inputs = np.column_stack((x1,x2))\n",
        "\n",
        "noise = np.random.uniform(-1, 1, (no_of_observations,1))\n",
        "targets = 2*x1 - 3*x2 + 5 + noise\n",
        "\n",
        "np.savez('training.npz', inputs = inputs, targets = targets)"
      ],
      "execution_count": 0,
      "outputs": []
    },
    {
      "metadata": {
        "id": "qZLentrGTYKI",
        "colab_type": "code",
        "colab": {}
      },
      "cell_type": "code",
      "source": [
        "# Solving now with TensorFlow\n",
        "input_size = 2 # since there are 2 independetn vars x1 and x2\n",
        "output_size = 1"
      ],
      "execution_count": 0,
      "outputs": []
    },
    {
      "metadata": {
        "id": "MjHD6-4IUFSr",
        "colab_type": "code",
        "colab": {}
      },
      "cell_type": "code",
      "source": [
        "# inputs that need to go into tensor flow will go into placeholders. weights and biases go into variables\n",
        "\n",
        "inputs_placeholder = tf.placeholder(tf.float32, [None,input_size]) # params are datatype and dimensions (None x input size). None here means that nothing specified so the no of rows can by anything\n",
        "targets_placeholder = tf.placeholder(tf.float32, [None,output_size])\n",
        "\n",
        "weights = tf.Variable(tf.random_uniform([input_size,output_size], minval = -0.1, maxval=0.1))\n",
        "biases = tf.Variable(tf.random_uniform([output_size], minval = -0.1, maxval=0.1))\n",
        "\n",
        "#now write the model equation y = wx + b\n",
        "outputs = tf.matmul(inputs_placeholder,weights) +biases"
      ],
      "execution_count": 0,
      "outputs": []
    },
    {
      "metadata": {
        "id": "MdCEmHZjYWOY",
        "colab_type": "code",
        "colab": {}
      },
      "cell_type": "code",
      "source": [
        "#now we need an objective function\n",
        "#loss here would be l2 norm so, loss = (sum of (xi -ti)^2)/no of obs / 2, which in other words is pretty much the error in our outcome from targets per observation\n",
        "#inside tf, there is a module losses which contains maths/funcionality of the most common loss functions\n",
        "mean_loss = tf.losses.mean_squared_error(labels = targets_placeholder, predictions = outputs) /2 #2. so that answers are float and not int"
      ],
      "execution_count": 0,
      "outputs": []
    },
    {
      "metadata": {
        "id": "XpOrBjC8ZdcW",
        "colab_type": "code",
        "colab": {}
      },
      "cell_type": "code",
      "source": [
        "#now we need an optimization algo\n",
        "#inside tf, there is a module losses train contains maths/funcionality of the most common optimization algos\n",
        "learning_rate = 0.05\n",
        "optimize = tf.train.GradientDescentOptimizer(learning_rate = learning_rate).minimize(mean_loss) #we use gradient descent. We specified learning rate to 0.05 and we want to minimize the mean loss"
      ],
      "execution_count": 0,
      "outputs": []
    },
    {
      "metadata": {
        "id": "Sv0xrWo1aiyD",
        "colab_type": "code",
        "colab": {
          "base_uri": "https://localhost:8080/",
          "height": 71
        },
        "outputId": "39e2f388-c35d-44f9-feac-db5bfdf77605"
      },
      "cell_type": "code",
      "source": [
        "#nothing has been executed yet but we have created everything required to learn\n",
        "#in tf, the execution takes place in sessions. When we say tf.InteractiveSession. this is the tf classs we use wehnever we want to execute anything in tf world\n",
        "#training in tf happens in these sessions and wehenever we use interactive session we mean to execute the process \n",
        "#storing this in a variable so i dont have to type the whole thing again everytime\n",
        "\n",
        "session = tf.InteractiveSession()"
      ],
      "execution_count": 81,
      "outputs": [
        {
          "output_type": "stream",
          "text": [
            "/usr/local/lib/python3.6/dist-packages/tensorflow/python/client/session.py:1702: UserWarning: An interactive session is already active. This can cause out-of-memory errors in some cases. You must explicitly call `InteractiveSession.close()` to release resources held by the other session(s).\n",
            "  warnings.warn('An interactive session is already active. This can '\n"
          ],
          "name": "stderr"
        }
      ]
    },
    {
      "metadata": {
        "id": "yA-pQwmKBJeu",
        "colab_type": "code",
        "colab": {}
      },
      "cell_type": "code",
      "source": [
        "#time to initialize variables\n",
        "#weights and biases need to have some init values\n",
        "\n",
        "initializer = tf.global_variables_initializer() #this method initializes all tensor objects marked as 'variables'\n",
        "session.run(initializer) #execution of each step, we need to use this run method"
      ],
      "execution_count": 0,
      "outputs": []
    },
    {
      "metadata": {
        "id": "tAcZe1HLC8hF",
        "colab_type": "code",
        "colab": {
          "base_uri": "https://localhost:8080/",
          "height": 34
        },
        "outputId": "f62a16a4-77da-48de-8e7c-9400783e28b8"
      },
      "cell_type": "code",
      "source": [
        "training_data = np.load('training.npz')"
      ],
      "execution_count": 83,
      "outputs": [
        {
          "output_type": "execute_result",
          "data": {
            "text/plain": [
              "(1000, 1)"
            ]
          },
          "metadata": {
            "tags": []
          },
          "execution_count": 83
        }
      ]
    },
    {
      "metadata": {
        "id": "Lu9hWlvaGwEN",
        "colab_type": "code",
        "colab": {}
      },
      "cell_type": "code",
      "source": [
        "#now we needa  for loop for learning\n",
        "\n",
        "for epoch in range(100):\n",
        "  _, curr_loss = session.run([optimize,mean_loss],feed_dict={inputs_placeholder:training_data['inputs'], targets_placeholder :training_data['targets']}) \n",
        "  #feed dict tells the algo how the data will be fed\n",
        "  # np.savez('training.npz', inputs = inputs, targets = targets) this is wehre we got the labels of the data\n",
        "  #the above call means that run the optimize and mean loss operations by feeding data specified in the placeholders\n",
        "  \n",
        "  print(curr_loss)"
      ],
      "execution_count": 0,
      "outputs": []
    },
    {
      "metadata": {
        "id": "3lnjfA1ELggV",
        "colab_type": "text"
      },
      "cell_type": "markdown",
      "source": [
        ""
      ]
    },
    {
      "metadata": {
        "id": "_YMH7AHRLhBl",
        "colab_type": "code",
        "colab": {
          "base_uri": "https://localhost:8080/",
          "height": 361
        },
        "outputId": "c1af319f-8fa9-4b30-8920-3049f5bc20c8"
      },
      "cell_type": "code",
      "source": [
        "# Trainign is over as our cut off was 100 as in loop. now we have trained weights and biases adn hence now we just need the ouputs that we will run below\n",
        "# Same notation as above but this time we don't want to train anymore, and we are not interested\n",
        "# in the loss function value.\n",
        "out = session.run([outputs], \n",
        "               feed_dict={inputs_placeholder: training_data['inputs']})\n",
        "# The model is optimized, so the outputs are calculated based on the last form of the model\n",
        "\n",
        "# We have to np.squeeze the arrays in order to fit them to what the plot function expects.\n",
        "# Doesn't change anything as we cut dimensions of size 1 - just a technicality.\n",
        "plt.plot(np.squeeze(out), np.squeeze(training_data['targets']))\n",
        "plt.xlabel('outputs')\n",
        "plt.ylabel('targets')\n",
        "plt.show()"
      ],
      "execution_count": 95,
      "outputs": [
        {
          "output_type": "display_data",
          "data": {
            "image/png": "[encoded data removed]",
            "text/plain": [
              "<matplotlib.figure.Figure at 0x7fcc072e4f60>"
            ]
          },
          "metadata": {
            "tags": []
          }
        }
      ]
    },
    {
      "metadata": {
        "id": "m6TtSKSgd87v",
        "colab_type": "code",
        "colab": {}
      },
      "cell_type": "code",
      "source": [
        "#Some takeaways if we had used huber_loss as compared to mean squared loss:\n",
        "\n",
        "#Any function that has the property to be lower for better results and higher for worse results can be a loss function. This includes the Huber loss.\n",
        "#Almost everything seems identical.\n",
        "#The values of the loss are generally lower (because of the Huber loss formula, and the convexity of the two functions).\n",
        "#For our problem, both the L2-norm loss and the Huber loss work equally well.\n",
        "#Generally, the Huber loss is used when we have a lot of outliers."
      ],
      "execution_count": 0,
      "outputs": []
    }
  ]
}