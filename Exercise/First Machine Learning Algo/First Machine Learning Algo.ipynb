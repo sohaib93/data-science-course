{
 "cells": [
  {
   "cell_type": "markdown",
   "metadata": {},
   "source": [
    "# First ML Algo"
   ]
  },
  {
   "cell_type": "code",
   "execution_count": 8,
   "metadata": {},
   "outputs": [],
   "source": [
    "import numpy as np  \n",
    "import matplotlib.pyplot as plt\n",
    "from mpl_toolkits.mplot3d import Axes3D\n",
    "\n",
    "#generating random fake training data\n",
    "#creating a function to create targets\n",
    "#writing a simple algo to make algo learn"
   ]
  },
  {
   "cell_type": "code",
   "execution_count": 2,
   "metadata": {},
   "outputs": [
    {
     "data": {
      "text/plain": [
       "(100000, 2)"
      ]
     },
     "execution_count": 2,
     "metadata": {},
     "output_type": "execute_result"
    }
   ],
   "source": [
    "# lets generate random input data to train our algo on\n",
    "# this section is to generate fake data for practice\n",
    "\n",
    "no_of_observations = 100000\n",
    "\n",
    "# two variables as inputs. x1 and x2\n",
    "\n",
    "x1 = np.random.uniform(-10,10,size = (no_of_observations,1)) #the size of this vector x1 should be (no of obs x 1)\n",
    "x2 = np.random.uniform(-10,10,size = (no_of_observations,1))\n",
    "\n",
    "#lets combine these x1 and x2 into one matrix. this matric should be no of obs x no of inputs\n",
    "\n",
    "inputs = np.column_stack((x1,x2))\n",
    "inputs.shape #should be no of obs x 2"
   ]
  },
  {
   "cell_type": "code",
   "execution_count": 3,
   "metadata": {},
   "outputs": [
    {
     "data": {
      "text/plain": [
       "(100000, 1)"
      ]
     },
     "execution_count": 3,
     "metadata": {},
     "output_type": "execute_result"
    }
   ],
   "source": [
    "# Now lets create targets to aim at\n",
    "# suppose f(x,z) = 2x1 - 3x2 + 5 + <small noise>\n",
    "noise = np.random.uniform(-1, 1, (no_of_observations,1))\n",
    "\n",
    "targets = 2*x1 - 3*x2 + 5 + noise\n",
    "\n",
    "targets.shape"
   ]
  },
  {
   "cell_type": "code",
   "execution_count": 4,
   "metadata": {},
   "outputs": [
    {
     "name": "stdout",
     "output_type": "stream",
     "text": [
      "[[-0.01209448]\n",
      " [-0.01728168]]\n",
      "[0.03383785]\n"
     ]
    }
   ],
   "source": [
    "#ML algo starts from here.\n",
    "# setting initial range for weigths and biases\n",
    "init_range = 0.1\n",
    "\n",
    "#dimensions of weight matrix should be number of input vars x no of output\n",
    "weights = np.random.uniform(low=-init_range, high=init_range, size=(2, 1)) \n",
    "\n",
    "# Biases are of size 1 since there is only 1 output. The bias is a scalar.\n",
    "biases = np.random.uniform(low=-init_range, high=init_range, size=1)\n",
    "\n",
    "print (weights)\n",
    "print (biases)"
   ]
  },
  {
   "cell_type": "code",
   "execution_count": 5,
   "metadata": {},
   "outputs": [],
   "source": [
    "#pick learning rate\n",
    "learning_rate = 0.02"
   ]
  },
  {
   "cell_type": "code",
   "execution_count": 6,
   "metadata": {},
   "outputs": [
    {
     "name": "stdout",
     "output_type": "stream",
     "text": [
      "[[ 2.00031935]\n",
      " [-3.00141396]] [10.03444285]\n"
     ]
    }
   ],
   "source": [
    "#train the model\n",
    "\n",
    "for i in range(100):\n",
    "    outputs = np.dot(inputs,weights)\n",
    "    deltas = outputs - targets\n",
    "    loss = np.sum(deltas**2) / 2 / no_of_observations \n",
    "    \n",
    "    #print(loss)\n",
    "    deltas_scaled = deltas/no_of_observations # outputs x inputs = 1000 x 1\n",
    "    \n",
    "    weights = weights - learning_rate*np.dot(inputs.T,deltas_scaled)\n",
    "    biases = biases - learning_rate*np.sum(deltas_scaled)\n",
    "    \n",
    "print (weights, biases)"
   ]
  },
  {
   "cell_type": "code",
   "execution_count": 7,
   "metadata": {},
   "outputs": [
    {
     "data": {
      "image/png": "[encoded data removed]",
      "text/plain": [
       "<Figure size 432x288 with 1 Axes>"
      ]
     },
     "metadata": {
      "needs_background": "light"
     },
     "output_type": "display_data"
    }
   ],
   "source": [
    "# plotting graph to see accuracy\n",
    "plt.plot(outputs,targets)\n",
    "plt.xlabel('outputs')\n",
    "plt.ylabel('targets')\n",
    "plt.show()"
   ]
  }
 ],
 "metadata": {
  "kernelspec": {
   "display_name": "Python 3",
   "language": "python",
   "name": "python3"
  },
  "language_info": {
   "codemirror_mode": {
    "name": "ipython",
    "version": 3
   },
   "file_extension": ".py",
   "mimetype": "text/x-python",
   "name": "python",
   "nbconvert_exporter": "python",
   "pygments_lexer": "ipython3",
   "version": "3.7.1"
  }
 },
 "nbformat": 4,
 "nbformat_minor": 2
}
