{
  "nbformat": 4,
  "nbformat_minor": 0,
  "metadata": {
    "colab": {
      "name": "Titanic.ipynb",
      "version": "0.3.2",
      "provenance": [],
      "collapsed_sections": []
    },
    "kernelspec": {
      "name": "python3",
      "display_name": "Python 3"
    }
  },
  "cells": [
    {
      "metadata": {
        "id": "pRG9Ca0qKUj2",
        "colab_type": "code",
        "colab": {}
      },
      "cell_type": "code",
      "source": [
        "import numpy as np\n",
        "import pandas as pd\n",
        "import matplotlib.pyplot as plt\n",
        "import seaborn as sns\n",
        "sns.set()\n",
        "\n",
        "import tensorflow as tf\n",
        "from sklearn import preprocessing\n",
        "from sklearn.utils import shuffle"
      ],
      "execution_count": 0,
      "outputs": []
    },
    {
      "metadata": {
        "id": "nEAtt1J1KwVz",
        "colab_type": "code",
        "colab": {
          "resources": {
            "http://localhost:8080/nbextensions/google.colab/files.js": {
              "data": "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",
              "ok": true,
              "headers": [
                [
                  "content-type",
                  "application/javascript"
                ]
              ],
              "status": 200,
              "status_text": ""
            }
          },
          "base_uri": "https://localhost:8080/",
          "height": 140
        },
        "outputId": "985ad670-b583-4d8b-bd9d-3d3e9d75735f"
      },
      "cell_type": "code",
      "source": [
        "#since I am using colab.research.google.com have to do the follwoing to import my data set\n",
        "from google.colab import files\n",
        "\n",
        "!rm train.csv\n",
        "uploaded = files.upload()\n",
        "\n",
        "for fn in uploaded.keys():\n",
        "  print('User uploaded file \"{name}\" with length {length} bytes'.format(\n",
        "      name=fn, length=len(uploaded[fn])))"
      ],
      "execution_count": 171,
      "outputs": [
        {
          "output_type": "display_data",
          "data": {
            "text/html": [
              "\n",
              "     <input type=\"file\" id=\"files-fe18d44b-b422-4c6f-802f-e6cfe1dd6abd\" name=\"files[]\" multiple disabled />\n",
              "     <output id=\"result-fe18d44b-b422-4c6f-802f-e6cfe1dd6abd\">\n",
              "      Upload widget is only available when the cell has been executed in the\n",
              "      current browser session. Please rerun this cell to enable.\n",
              "      </output>\n",
              "      <script src=\"/nbextensions/google.colab/files.js\"></script> "
            ],
            "text/plain": [
              "<IPython.core.display.HTML object>"
            ]
          },
          "metadata": {
            "tags": []
          }
        },
        {
          "output_type": "stream",
          "text": [
            "Saving test.csv to test (2).csv\n",
            "Saving train.csv to train.csv\n",
            "User uploaded file \"test.csv\" with length 28629 bytes\n",
            "User uploaded file \"train.csv\" with length 61194 bytes\n"
          ],
          "name": "stdout"
        }
      ]
    },
    {
      "metadata": {
        "id": "A-lZWTr8K2X-",
        "colab_type": "code",
        "colab": {
          "base_uri": "https://localhost:8080/",
          "height": 204
        },
        "outputId": "1ede0b9b-6e4b-4df1-8e06-387f20dabfd7"
      },
      "cell_type": "code",
      "source": [
        "train_data = pd.read_csv(\"train.csv\")\n",
        "test_data = pd.read_csv(\"test.csv\")\n",
        "train_data = train_data.drop(['PassengerId','Name','Ticket'], axis=1)\n",
        "test_data = test_data.drop(['PassengerId','Name','Ticket'], axis=1)\n",
        "train_data.head()"
      ],
      "execution_count": 172,
      "outputs": [
        {
          "output_type": "execute_result",
          "data": {
            "text/html": [
              "<div>\n",
              "<style scoped>\n",
              "    .dataframe tbody tr th:only-of-type {\n",
              "        vertical-align: middle;\n",
              "    }\n",
              "\n",
              "    .dataframe tbody tr th {\n",
              "        vertical-align: top;\n",
              "    }\n",
              "\n",
              "    .dataframe thead th {\n",
              "        text-align: right;\n",
              "    }\n",
              "</style>\n",
              "<table border=\"1\" class=\"dataframe\">\n",
              "  <thead>\n",
              "    <tr style=\"text-align: right;\">\n",
              "      <th></th>\n",
              "      <th>Survived</th>\n",
              "      <th>Pclass</th>\n",
              "      <th>Sex</th>\n",
              "      <th>Age</th>\n",
              "      <th>SibSp</th>\n",
              "      <th>Parch</th>\n",
              "      <th>Fare</th>\n",
              "      <th>Cabin</th>\n",
              "      <th>Embarked</th>\n",
              "    </tr>\n",
              "  </thead>\n",
              "  <tbody>\n",
              "    <tr>\n",
              "      <th>0</th>\n",
              "      <td>0</td>\n",
              "      <td>3</td>\n",
              "      <td>male</td>\n",
              "      <td>22.0</td>\n",
              "      <td>1</td>\n",
              "      <td>0</td>\n",
              "      <td>7.2500</td>\n",
              "      <td>NaN</td>\n",
              "      <td>S</td>\n",
              "    </tr>\n",
              "    <tr>\n",
              "      <th>1</th>\n",
              "      <td>1</td>\n",
              "      <td>1</td>\n",
              "      <td>female</td>\n",
              "      <td>38.0</td>\n",
              "      <td>1</td>\n",
              "      <td>0</td>\n",
              "      <td>71.2833</td>\n",
              "      <td>C85</td>\n",
              "      <td>C</td>\n",
              "    </tr>\n",
              "    <tr>\n",
              "      <th>2</th>\n",
              "      <td>1</td>\n",
              "      <td>3</td>\n",
              "      <td>female</td>\n",
              "      <td>26.0</td>\n",
              "      <td>0</td>\n",
              "      <td>0</td>\n",
              "      <td>7.9250</td>\n",
              "      <td>NaN</td>\n",
              "      <td>S</td>\n",
              "    </tr>\n",
              "    <tr>\n",
              "      <th>3</th>\n",
              "      <td>1</td>\n",
              "      <td>1</td>\n",
              "      <td>female</td>\n",
              "      <td>35.0</td>\n",
              "      <td>1</td>\n",
              "      <td>0</td>\n",
              "      <td>53.1000</td>\n",
              "      <td>C123</td>\n",
              "      <td>S</td>\n",
              "    </tr>\n",
              "    <tr>\n",
              "      <th>4</th>\n",
              "      <td>0</td>\n",
              "      <td>3</td>\n",
              "      <td>male</td>\n",
              "      <td>35.0</td>\n",
              "      <td>0</td>\n",
              "      <td>0</td>\n",
              "      <td>8.0500</td>\n",
              "      <td>NaN</td>\n",
              "      <td>S</td>\n",
              "    </tr>\n",
              "  </tbody>\n",
              "</table>\n",
              "</div>"
            ],
            "text/plain": [
              "   Survived  Pclass     Sex   Age  SibSp  Parch     Fare Cabin Embarked\n",
              "0         0       3    male  22.0      1      0   7.2500   NaN        S\n",
              "1         1       1  female  38.0      1      0  71.2833   C85        C\n",
              "2         1       3  female  26.0      0      0   7.9250   NaN        S\n",
              "3         1       1  female  35.0      1      0  53.1000  C123        S\n",
              "4         0       3    male  35.0      0      0   8.0500   NaN        S"
            ]
          },
          "metadata": {
            "tags": []
          },
          "execution_count": 172
        }
      ]
    },
    {
      "metadata": {
        "id": "2l5DqL78LCC_",
        "colab_type": "code",
        "colab": {
          "base_uri": "https://localhost:8080/",
          "height": 187
        },
        "outputId": "a7d92b4b-25d5-4217-e377-034b543fc976"
      },
      "cell_type": "code",
      "source": [
        "train_data.isnull().sum()"
      ],
      "execution_count": 173,
      "outputs": [
        {
          "output_type": "execute_result",
          "data": {
            "text/plain": [
              "Survived      0\n",
              "Pclass        0\n",
              "Sex           0\n",
              "Age         177\n",
              "SibSp         0\n",
              "Parch         0\n",
              "Fare          0\n",
              "Cabin       687\n",
              "Embarked      2\n",
              "dtype: int64"
            ]
          },
          "metadata": {
            "tags": []
          },
          "execution_count": 173
        }
      ]
    },
    {
      "metadata": {
        "id": "j5RavgfgJMHD",
        "colab_type": "code",
        "colab": {
          "base_uri": "https://localhost:8080/",
          "height": 170
        },
        "outputId": "564d1c33-ddc7-428c-b0de-b1d94c322bea"
      },
      "cell_type": "code",
      "source": [
        "test_data.isnull().sum()"
      ],
      "execution_count": 174,
      "outputs": [
        {
          "output_type": "execute_result",
          "data": {
            "text/plain": [
              "Pclass        0\n",
              "Sex           0\n",
              "Age          86\n",
              "SibSp         0\n",
              "Parch         0\n",
              "Fare          1\n",
              "Cabin       327\n",
              "Embarked      0\n",
              "dtype: int64"
            ]
          },
          "metadata": {
            "tags": []
          },
          "execution_count": 174
        }
      ]
    },
    {
      "metadata": {
        "id": "Ni7QuYUNkJ-C",
        "colab_type": "code",
        "colab": {}
      },
      "cell_type": "code",
      "source": [
        "train_data['Age'] = train_data['Age'].fillna(train_data['Age'].mean())\n",
        "test_data['Age'] = test_data['Age'].fillna(test_data['Age'].mean())"
      ],
      "execution_count": 0,
      "outputs": []
    },
    {
      "metadata": {
        "id": "BBREKTHOMXX2",
        "colab_type": "code",
        "colab": {}
      },
      "cell_type": "code",
      "source": [
        "def show_bar_chart(feature):\n",
        "  survived = train_data[train_data['Survived']==1][feature].value_counts()\n",
        "  dead = train_data[train_data['Survived']==0][feature].value_counts()\n",
        "  df = pd.DataFrame([survived,dead])\n",
        "  df.index = ['Survived','Dead']\n",
        "  df.plot(kind='bar')"
      ],
      "execution_count": 0,
      "outputs": []
    },
    {
      "metadata": {
        "id": "ZzJztq-iPbkQ",
        "colab_type": "code",
        "colab": {
          "base_uri": "https://localhost:8080/",
          "height": 376
        },
        "outputId": "f10d8b13-73a7-47d6-8b39-3cb48c79005d"
      },
      "cell_type": "code",
      "source": [
        "show_bar_chart('Sex')"
      ],
      "execution_count": 177,
      "outputs": [
        {
          "output_type": "display_data",
          "data": {
            "image/png": "[encoded data removed]",
            "text/plain": [
              "<Figure size 576x396 with 1 Axes>"
            ]
          },
          "metadata": {
            "tags": []
          }
        }
      ]
    },
    {
      "metadata": {
        "id": "FG1SxdraPfwh",
        "colab_type": "code",
        "colab": {
          "base_uri": "https://localhost:8080/",
          "height": 376
        },
        "outputId": "483df223-0bee-41fe-caca-225a5e4b1cf5"
      },
      "cell_type": "code",
      "source": [
        "show_bar_chart('Pclass')"
      ],
      "execution_count": 178,
      "outputs": [
        {
          "output_type": "display_data",
          "data": {
            "image/png": "[encoded data removed]",
            "text/plain": [
              "<Figure size 576x396 with 1 Axes>"
            ]
          },
          "metadata": {
            "tags": []
          }
        }
      ]
    },
    {
      "metadata": {
        "id": "IHS4Wmu9P2fk",
        "colab_type": "code",
        "colab": {
          "base_uri": "https://localhost:8080/",
          "height": 376
        },
        "outputId": "c369702c-be8f-492c-95f6-7cc13086de04"
      },
      "cell_type": "code",
      "source": [
        "show_bar_chart('SibSp')"
      ],
      "execution_count": 179,
      "outputs": [
        {
          "output_type": "display_data",
          "data": {
            "image/png": "[encoded data removed]",
            "text/plain": [
              "<Figure size 576x396 with 1 Axes>"
            ]
          },
          "metadata": {
            "tags": []
          }
        }
      ]
    },
    {
      "metadata": {
        "id": "7I6_-wzCP-jp",
        "colab_type": "code",
        "colab": {
          "base_uri": "https://localhost:8080/",
          "height": 376
        },
        "outputId": "13483dc4-2268-4a3c-801e-99a9ab2e67b6"
      },
      "cell_type": "code",
      "source": [
        "show_bar_chart('Parch')"
      ],
      "execution_count": 180,
      "outputs": [
        {
          "output_type": "display_data",
          "data": {
            "image/png": "[encoded data removed]",
            "text/plain": [
              "<Figure size 576x396 with 1 Axes>"
            ]
          },
          "metadata": {
            "tags": []
          }
        }
      ]
    },
    {
      "metadata": {
        "id": "nf56BCD8QFMg",
        "colab_type": "code",
        "colab": {
          "base_uri": "https://localhost:8080/",
          "height": 376
        },
        "outputId": "681d6ae2-6fe4-4309-f684-65e7e2e91cc9"
      },
      "cell_type": "code",
      "source": [
        "show_bar_chart('Embarked')"
      ],
      "execution_count": 181,
      "outputs": [
        {
          "output_type": "display_data",
          "data": {
            "image/png": "[encoded data removed]",
            "text/plain": [
              "<Figure size 576x396 with 1 Axes>"
            ]
          },
          "metadata": {
            "tags": []
          }
        }
      ]
    },
    {
      "metadata": {
        "id": "gEnBJcU2lFVI",
        "colab_type": "code",
        "colab": {}
      },
      "cell_type": "code",
      "source": [
        "#divide age into classes\n",
        "# 0-16 : 0\n",
        "# 17-26 : 1\n",
        "# 27-36 : 2\n",
        "# 37-62 : 3\n",
        "# >62 : 4\n",
        "\n",
        "conditions = [\n",
        "    (train_data['Age'] <= 16),\n",
        "    (train_data['Age'] > 16) & (train_data['Age'] <=26),\n",
        "    (train_data['Age'] > 26) & (train_data['Age'] <=36),\n",
        "    (train_data['Age'] > 36) & (train_data['Age'] <=62),\n",
        "    (train_data['Age'] > 62)]\n",
        "\n",
        "test_conditions = [\n",
        "    (test_data['Age'] <= 16),\n",
        "    (test_data['Age'] > 16) & (test_data['Age'] <=26),\n",
        "    (test_data['Age'] > 26) & (test_data['Age'] <=36),\n",
        "    (test_data['Age'] > 36) & (test_data['Age'] <=62),\n",
        "    (test_data['Age'] > 62)]\n",
        "choices = [0, 1, 2,3,4]\n",
        "train_data['Age'] = np.select(conditions, choices)\n",
        "test_data['Age'] = np.select(test_conditions, choices)"
      ],
      "execution_count": 0,
      "outputs": []
    },
    {
      "metadata": {
        "id": "nmBsPvm3mQIr",
        "colab_type": "code",
        "colab": {
          "base_uri": "https://localhost:8080/",
          "height": 376
        },
        "outputId": "8a6929fb-18f8-454f-dda6-e1d6f7709fae"
      },
      "cell_type": "code",
      "source": [
        "show_bar_chart('Age')"
      ],
      "execution_count": 183,
      "outputs": [
        {
          "output_type": "display_data",
          "data": {
            "image/png": "[encoded data removed]",
            "text/plain": [
              "<Figure size 576x396 with 1 Axes>"
            ]
          },
          "metadata": {
            "tags": []
          }
        }
      ]
    },
    {
      "metadata": {
        "id": "TNRjp1glo6is",
        "colab_type": "code",
        "colab": {}
      },
      "cell_type": "code",
      "source": [
        "#from the embarked graph we can see that most passengers embared from S so lets fill na with S\n",
        "train_data['Embarked'] = train_data['Embarked'].fillna('S') \n",
        "test_data['Embarked'] = test_data['Embarked'].fillna('S')"
      ],
      "execution_count": 0,
      "outputs": []
    },
    {
      "metadata": {
        "id": "6ckz9iPsprXP",
        "colab_type": "code",
        "colab": {
          "base_uri": "https://localhost:8080/",
          "height": 187
        },
        "outputId": "61c8d254-3f8a-403c-f4d2-106d8bc958c0"
      },
      "cell_type": "code",
      "source": [
        "train_data.isnull().sum()"
      ],
      "execution_count": 185,
      "outputs": [
        {
          "output_type": "execute_result",
          "data": {
            "text/plain": [
              "Survived      0\n",
              "Pclass        0\n",
              "Sex           0\n",
              "Age           0\n",
              "SibSp         0\n",
              "Parch         0\n",
              "Fare          0\n",
              "Cabin       687\n",
              "Embarked      0\n",
              "dtype: int64"
            ]
          },
          "metadata": {
            "tags": []
          },
          "execution_count": 185
        }
      ]
    },
    {
      "metadata": {
        "id": "CYV95QMWp1B_",
        "colab_type": "code",
        "colab": {
          "base_uri": "https://localhost:8080/",
          "height": 1071
        },
        "outputId": "9fa16c2f-a9ee-4ef6-cbf0-50dee19af372"
      },
      "cell_type": "code",
      "source": [
        "#lets study fare a litte\n",
        "train_data['Fare']"
      ],
      "execution_count": 186,
      "outputs": [
        {
          "output_type": "execute_result",
          "data": {
            "text/plain": [
              "0        7.2500\n",
              "1       71.2833\n",
              "2        7.9250\n",
              "3       53.1000\n",
              "4        8.0500\n",
              "5        8.4583\n",
              "6       51.8625\n",
              "7       21.0750\n",
              "8       11.1333\n",
              "9       30.0708\n",
              "10      16.7000\n",
              "11      26.5500\n",
              "12       8.0500\n",
              "13      31.2750\n",
              "14       7.8542\n",
              "15      16.0000\n",
              "16      29.1250\n",
              "17      13.0000\n",
              "18      18.0000\n",
              "19       7.2250\n",
              "20      26.0000\n",
              "21      13.0000\n",
              "22       8.0292\n",
              "23      35.5000\n",
              "24      21.0750\n",
              "25      31.3875\n",
              "26       7.2250\n",
              "27     263.0000\n",
              "28       7.8792\n",
              "29       7.8958\n",
              "         ...   \n",
              "861     11.5000\n",
              "862     25.9292\n",
              "863     69.5500\n",
              "864     13.0000\n",
              "865     13.0000\n",
              "866     13.8583\n",
              "867     50.4958\n",
              "868      9.5000\n",
              "869     11.1333\n",
              "870      7.8958\n",
              "871     52.5542\n",
              "872      5.0000\n",
              "873      9.0000\n",
              "874     24.0000\n",
              "875      7.2250\n",
              "876      9.8458\n",
              "877      7.8958\n",
              "878      7.8958\n",
              "879     83.1583\n",
              "880     26.0000\n",
              "881      7.8958\n",
              "882     10.5167\n",
              "883     10.5000\n",
              "884      7.0500\n",
              "885     29.1250\n",
              "886     13.0000\n",
              "887     30.0000\n",
              "888     23.4500\n",
              "889     30.0000\n",
              "890      7.7500\n",
              "Name: Fare, Length: 891, dtype: float64"
            ]
          },
          "metadata": {
            "tags": []
          },
          "execution_count": 186
        }
      ]
    },
    {
      "metadata": {
        "id": "FsbVJV5Dqsnt",
        "colab_type": "code",
        "colab": {
          "base_uri": "https://localhost:8080/",
          "height": 34
        },
        "outputId": "371caad9-a340-4b35-d78c-c5d55e68fe88"
      },
      "cell_type": "code",
      "source": [
        "bin_size = (train_data['Fare'].max() - train_data['Fare'].min())/25\n",
        "bin_size"
      ],
      "execution_count": 187,
      "outputs": [
        {
          "output_type": "execute_result",
          "data": {
            "text/plain": [
              "20.493168"
            ]
          },
          "metadata": {
            "tags": []
          },
          "execution_count": 187
        }
      ]
    },
    {
      "metadata": {
        "id": "wu0bDua-rG6u",
        "colab_type": "code",
        "colab": {
          "base_uri": "https://localhost:8080/",
          "height": 361
        },
        "outputId": "20facdd4-3794-4b59-aca6-2496507bbb71"
      },
      "cell_type": "code",
      "source": [
        "train_data['Fare'].plot.hist(grid=True, bins=25, rwidth=0.9,\n",
        "                   color='#607c8e')\n",
        "plt.xlabel('Fare')\n",
        "plt.ylabel('Count')\n",
        "plt.grid(axis='y', alpha=0.75)"
      ],
      "execution_count": 188,
      "outputs": [
        {
          "output_type": "display_data",
          "data": {
            "image/png": "[encoded data removed]",
            "text/plain": [
              "<Figure size 576x396 with 1 Axes>"
            ]
          },
          "metadata": {
            "tags": []
          }
        }
      ]
    },
    {
      "metadata": {
        "id": "vPgUEmNK1ai9",
        "colab_type": "code",
        "colab": {
          "base_uri": "https://localhost:8080/",
          "height": 204
        },
        "outputId": "d16c7fef-5172-4227-e00c-69c9638137ec"
      },
      "cell_type": "code",
      "source": [
        "#divide fare into classes\n",
        "# 0-20 : 0\n",
        "# 20-40 : 1\n",
        "# 40-100 : 2\n",
        "# >100 : 3\n",
        "\n",
        "conditions = [\n",
        "    (train_data['Fare'] <= 20),\n",
        "    (train_data['Fare'] > 20) & (train_data['Fare'] <=40),\n",
        "    (train_data['Fare'] > 40) & (train_data['Fare'] <=100),\n",
        "    (train_data['Fare'] > 100)]\n",
        "test_conditions = [\n",
        "    (test_data['Fare'] <= 20),\n",
        "    (test_data['Fare'] > 20) & (test_data['Fare'] <=40),\n",
        "    (test_data['Fare'] > 40) & (test_data['Fare'] <=100),\n",
        "    (test_data['Fare'] > 100)]\n",
        "choices = [0, 1, 2,3]\n",
        "train_data['Fare'] = np.select(conditions, choices)\n",
        "test_data['Fare'] = np.select(test_conditions, choices)\n",
        "\n",
        "test_data.head() "
      ],
      "execution_count": 189,
      "outputs": [
        {
          "output_type": "execute_result",
          "data": {
            "text/html": [
              "<div>\n",
              "<style scoped>\n",
              "    .dataframe tbody tr th:only-of-type {\n",
              "        vertical-align: middle;\n",
              "    }\n",
              "\n",
              "    .dataframe tbody tr th {\n",
              "        vertical-align: top;\n",
              "    }\n",
              "\n",
              "    .dataframe thead th {\n",
              "        text-align: right;\n",
              "    }\n",
              "</style>\n",
              "<table border=\"1\" class=\"dataframe\">\n",
              "  <thead>\n",
              "    <tr style=\"text-align: right;\">\n",
              "      <th></th>\n",
              "      <th>Pclass</th>\n",
              "      <th>Sex</th>\n",
              "      <th>Age</th>\n",
              "      <th>SibSp</th>\n",
              "      <th>Parch</th>\n",
              "      <th>Fare</th>\n",
              "      <th>Cabin</th>\n",
              "      <th>Embarked</th>\n",
              "    </tr>\n",
              "  </thead>\n",
              "  <tbody>\n",
              "    <tr>\n",
              "      <th>0</th>\n",
              "      <td>3</td>\n",
              "      <td>male</td>\n",
              "      <td>2</td>\n",
              "      <td>0</td>\n",
              "      <td>0</td>\n",
              "      <td>0</td>\n",
              "      <td>NaN</td>\n",
              "      <td>Q</td>\n",
              "    </tr>\n",
              "    <tr>\n",
              "      <th>1</th>\n",
              "      <td>3</td>\n",
              "      <td>female</td>\n",
              "      <td>3</td>\n",
              "      <td>1</td>\n",
              "      <td>0</td>\n",
              "      <td>0</td>\n",
              "      <td>NaN</td>\n",
              "      <td>S</td>\n",
              "    </tr>\n",
              "    <tr>\n",
              "      <th>2</th>\n",
              "      <td>2</td>\n",
              "      <td>male</td>\n",
              "      <td>3</td>\n",
              "      <td>0</td>\n",
              "      <td>0</td>\n",
              "      <td>0</td>\n",
              "      <td>NaN</td>\n",
              "      <td>Q</td>\n",
              "    </tr>\n",
              "    <tr>\n",
              "      <th>3</th>\n",
              "      <td>3</td>\n",
              "      <td>male</td>\n",
              "      <td>2</td>\n",
              "      <td>0</td>\n",
              "      <td>0</td>\n",
              "      <td>0</td>\n",
              "      <td>NaN</td>\n",
              "      <td>S</td>\n",
              "    </tr>\n",
              "    <tr>\n",
              "      <th>4</th>\n",
              "      <td>3</td>\n",
              "      <td>female</td>\n",
              "      <td>1</td>\n",
              "      <td>1</td>\n",
              "      <td>1</td>\n",
              "      <td>0</td>\n",
              "      <td>NaN</td>\n",
              "      <td>S</td>\n",
              "    </tr>\n",
              "  </tbody>\n",
              "</table>\n",
              "</div>"
            ],
            "text/plain": [
              "   Pclass     Sex  Age  SibSp  Parch  Fare Cabin Embarked\n",
              "0       3    male    2      0      0     0   NaN        Q\n",
              "1       3  female    3      1      0     0   NaN        S\n",
              "2       2    male    3      0      0     0   NaN        Q\n",
              "3       3    male    2      0      0     0   NaN        S\n",
              "4       3  female    1      1      1     0   NaN        S"
            ]
          },
          "metadata": {
            "tags": []
          },
          "execution_count": 189
        }
      ]
    },
    {
      "metadata": {
        "id": "_E-kvi3t5Fhf",
        "colab_type": "code",
        "colab": {}
      },
      "cell_type": "code",
      "source": [
        "train_data = train_data.drop(['Cabin'], axis=1)\n",
        "test_data = test_data.drop(['Cabin'], axis=1)"
      ],
      "execution_count": 0,
      "outputs": []
    },
    {
      "metadata": {
        "id": "GBuqpAA16fHs",
        "colab_type": "code",
        "colab": {
          "base_uri": "https://localhost:8080/",
          "height": 204
        },
        "outputId": "f9efbc96-f3ab-4f4d-9a9a-d7fd50c634a0"
      },
      "cell_type": "code",
      "source": [
        "train_data['Embarked'] = train_data['Embarked'].map({'S':0,'C':1,'Q':2})\n",
        "test_data['Embarked'] = test_data['Embarked'].map({'S':0,'C':1,'Q':2})\n",
        "\n",
        "train_data['Sex'] = train_data['Sex'].map({'male':0,'female':1})\n",
        "test_data['Sex'] = test_data['Sex'].map({'male':0,'female':1})\n",
        "train_data.head()"
      ],
      "execution_count": 191,
      "outputs": [
        {
          "output_type": "execute_result",
          "data": {
            "text/html": [
              "<div>\n",
              "<style scoped>\n",
              "    .dataframe tbody tr th:only-of-type {\n",
              "        vertical-align: middle;\n",
              "    }\n",
              "\n",
              "    .dataframe tbody tr th {\n",
              "        vertical-align: top;\n",
              "    }\n",
              "\n",
              "    .dataframe thead th {\n",
              "        text-align: right;\n",
              "    }\n",
              "</style>\n",
              "<table border=\"1\" class=\"dataframe\">\n",
              "  <thead>\n",
              "    <tr style=\"text-align: right;\">\n",
              "      <th></th>\n",
              "      <th>Survived</th>\n",
              "      <th>Pclass</th>\n",
              "      <th>Sex</th>\n",
              "      <th>Age</th>\n",
              "      <th>SibSp</th>\n",
              "      <th>Parch</th>\n",
              "      <th>Fare</th>\n",
              "      <th>Embarked</th>\n",
              "    </tr>\n",
              "  </thead>\n",
              "  <tbody>\n",
              "    <tr>\n",
              "      <th>0</th>\n",
              "      <td>0</td>\n",
              "      <td>3</td>\n",
              "      <td>0</td>\n",
              "      <td>1</td>\n",
              "      <td>1</td>\n",
              "      <td>0</td>\n",
              "      <td>0</td>\n",
              "      <td>0</td>\n",
              "    </tr>\n",
              "    <tr>\n",
              "      <th>1</th>\n",
              "      <td>1</td>\n",
              "      <td>1</td>\n",
              "      <td>1</td>\n",
              "      <td>3</td>\n",
              "      <td>1</td>\n",
              "      <td>0</td>\n",
              "      <td>2</td>\n",
              "      <td>1</td>\n",
              "    </tr>\n",
              "    <tr>\n",
              "      <th>2</th>\n",
              "      <td>1</td>\n",
              "      <td>3</td>\n",
              "      <td>1</td>\n",
              "      <td>1</td>\n",
              "      <td>0</td>\n",
              "      <td>0</td>\n",
              "      <td>0</td>\n",
              "      <td>0</td>\n",
              "    </tr>\n",
              "    <tr>\n",
              "      <th>3</th>\n",
              "      <td>1</td>\n",
              "      <td>1</td>\n",
              "      <td>1</td>\n",
              "      <td>2</td>\n",
              "      <td>1</td>\n",
              "      <td>0</td>\n",
              "      <td>2</td>\n",
              "      <td>0</td>\n",
              "    </tr>\n",
              "    <tr>\n",
              "      <th>4</th>\n",
              "      <td>0</td>\n",
              "      <td>3</td>\n",
              "      <td>0</td>\n",
              "      <td>2</td>\n",
              "      <td>0</td>\n",
              "      <td>0</td>\n",
              "      <td>0</td>\n",
              "      <td>0</td>\n",
              "    </tr>\n",
              "  </tbody>\n",
              "</table>\n",
              "</div>"
            ],
            "text/plain": [
              "   Survived  Pclass  Sex  Age  SibSp  Parch  Fare  Embarked\n",
              "0         0       3    0    1      1      0     0         0\n",
              "1         1       1    1    3      1      0     2         1\n",
              "2         1       3    1    1      0      0     0         0\n",
              "3         1       1    1    2      1      0     2         0\n",
              "4         0       3    0    2      0      0     0         0"
            ]
          },
          "metadata": {
            "tags": []
          },
          "execution_count": 191
        }
      ]
    },
    {
      "metadata": {
        "id": "M9Pw15YMFTdP",
        "colab_type": "code",
        "colab": {
          "base_uri": "https://localhost:8080/",
          "height": 204
        },
        "outputId": "f7ea029a-eee1-4ce1-c038-2a58c8554b85"
      },
      "cell_type": "code",
      "source": [
        "test_data.head()"
      ],
      "execution_count": 192,
      "outputs": [
        {
          "output_type": "execute_result",
          "data": {
            "text/html": [
              "<div>\n",
              "<style scoped>\n",
              "    .dataframe tbody tr th:only-of-type {\n",
              "        vertical-align: middle;\n",
              "    }\n",
              "\n",
              "    .dataframe tbody tr th {\n",
              "        vertical-align: top;\n",
              "    }\n",
              "\n",
              "    .dataframe thead th {\n",
              "        text-align: right;\n",
              "    }\n",
              "</style>\n",
              "<table border=\"1\" class=\"dataframe\">\n",
              "  <thead>\n",
              "    <tr style=\"text-align: right;\">\n",
              "      <th></th>\n",
              "      <th>Pclass</th>\n",
              "      <th>Sex</th>\n",
              "      <th>Age</th>\n",
              "      <th>SibSp</th>\n",
              "      <th>Parch</th>\n",
              "      <th>Fare</th>\n",
              "      <th>Embarked</th>\n",
              "    </tr>\n",
              "  </thead>\n",
              "  <tbody>\n",
              "    <tr>\n",
              "      <th>0</th>\n",
              "      <td>3</td>\n",
              "      <td>0</td>\n",
              "      <td>2</td>\n",
              "      <td>0</td>\n",
              "      <td>0</td>\n",
              "      <td>0</td>\n",
              "      <td>2</td>\n",
              "    </tr>\n",
              "    <tr>\n",
              "      <th>1</th>\n",
              "      <td>3</td>\n",
              "      <td>1</td>\n",
              "      <td>3</td>\n",
              "      <td>1</td>\n",
              "      <td>0</td>\n",
              "      <td>0</td>\n",
              "      <td>0</td>\n",
              "    </tr>\n",
              "    <tr>\n",
              "      <th>2</th>\n",
              "      <td>2</td>\n",
              "      <td>0</td>\n",
              "      <td>3</td>\n",
              "      <td>0</td>\n",
              "      <td>0</td>\n",
              "      <td>0</td>\n",
              "      <td>2</td>\n",
              "    </tr>\n",
              "    <tr>\n",
              "      <th>3</th>\n",
              "      <td>3</td>\n",
              "      <td>0</td>\n",
              "      <td>2</td>\n",
              "      <td>0</td>\n",
              "      <td>0</td>\n",
              "      <td>0</td>\n",
              "      <td>0</td>\n",
              "    </tr>\n",
              "    <tr>\n",
              "      <th>4</th>\n",
              "      <td>3</td>\n",
              "      <td>1</td>\n",
              "      <td>1</td>\n",
              "      <td>1</td>\n",
              "      <td>1</td>\n",
              "      <td>0</td>\n",
              "      <td>0</td>\n",
              "    </tr>\n",
              "  </tbody>\n",
              "</table>\n",
              "</div>"
            ],
            "text/plain": [
              "   Pclass  Sex  Age  SibSp  Parch  Fare  Embarked\n",
              "0       3    0    2      0      0     0         2\n",
              "1       3    1    3      1      0     0         0\n",
              "2       2    0    3      0      0     0         2\n",
              "3       3    0    2      0      0     0         0\n",
              "4       3    1    1      1      1     0         0"
            ]
          },
          "metadata": {
            "tags": []
          },
          "execution_count": 192
        }
      ]
    },
    {
      "metadata": {
        "id": "sEfiinx1LwBW",
        "colab_type": "text"
      },
      "cell_type": "markdown",
      "source": [
        "##NUERAL NETWORK"
      ]
    },
    {
      "metadata": {
        "id": "OtvmFHHOL1pa",
        "colab_type": "code",
        "colab": {}
      },
      "cell_type": "code",
      "source": [
        "targets = train_data['Survived']\n",
        "training_df = train_data.copy()\n",
        "training_df = training_df.drop(['Survived'], axis=1)"
      ],
      "execution_count": 0,
      "outputs": []
    },
    {
      "metadata": {
        "id": "EOBhE8_oMXtH",
        "colab_type": "code",
        "colab": {
          "base_uri": "https://localhost:8080/",
          "height": 51
        },
        "outputId": "7b4bfc1a-8118-46f2-9c99-f7f85c2dd579"
      },
      "cell_type": "code",
      "source": [
        "print(targets.shape[0]) #total records\n",
        "print(int(np.sum(targets))) #total ones"
      ],
      "execution_count": 194,
      "outputs": [
        {
          "output_type": "stream",
          "text": [
            "891\n",
            "342\n"
          ],
          "name": "stdout"
        }
      ]
    },
    {
      "metadata": {
        "id": "QHv3rrXVMNi4",
        "colab_type": "code",
        "colab": {}
      },
      "cell_type": "code",
      "source": [
        "#balance data set as there are more 0s in targets than 1s\n",
        "#so count 1s so that equal 0s can be used\n",
        "\n",
        "target_one_count = int(np.sum(targets)) #as we have 0s and 1s in target so sum of all targets will give us count of 1s\n",
        "#now traverse over data set and select indices to keep and the ones to delete.Start deleting when count for 0s becomes equal to count of 1s\n",
        "target_zero_count = 0\n",
        "indices_to_delete_for_balancing = []\n",
        "\n",
        "no_of_rows_in_data_set = training_df.shape[0] #gets us the number of rows in data set\n",
        "\n",
        "for i in range(no_of_rows_in_data_set):\n",
        "  if(targets[i] == 0):\n",
        "    target_zero_count += 1\n",
        "    if(target_zero_count > target_one_count):\n",
        "      indices_to_delete_for_balancing.append(i)\n",
        "      \n",
        "unscaled_but_balanced_data = training_df.drop(indices_to_delete_for_balancing, axis=0) #axis 0 as we want to delete rows\n",
        "balanced_targets = targets.drop(indices_to_delete_for_balancing,axis=0)"
      ],
      "execution_count": 0,
      "outputs": []
    },
    {
      "metadata": {
        "id": "CdUrhpLmM6GK",
        "colab_type": "code",
        "colab": {
          "base_uri": "https://localhost:8080/",
          "height": 221
        },
        "outputId": "f39131c0-9c8a-419e-aa15-3c29bbc81e6c"
      },
      "cell_type": "code",
      "source": [
        "#merging targets to scaled_and_balanced_data so that shuffling keeps relationship between rows and target\n",
        "shuffled_data = unscaled_but_balanced_data.copy()\n",
        "shuffled_data['Targets'] = balanced_targets\n",
        "shuffled_data  = shuffle(shuffled_data)\n",
        "shuffled_targets = shuffled_data['Targets']\n",
        "print(shuffled_targets.unique())\n",
        "shuffled_data = shuffled_data.drop(['Targets'],axis=1)\n",
        "shuffled_data.head()"
      ],
      "execution_count": 196,
      "outputs": [
        {
          "output_type": "stream",
          "text": [
            "[0 1]\n"
          ],
          "name": "stdout"
        },
        {
          "output_type": "execute_result",
          "data": {
            "text/html": [
              "<div>\n",
              "<style scoped>\n",
              "    .dataframe tbody tr th:only-of-type {\n",
              "        vertical-align: middle;\n",
              "    }\n",
              "\n",
              "    .dataframe tbody tr th {\n",
              "        vertical-align: top;\n",
              "    }\n",
              "\n",
              "    .dataframe thead th {\n",
              "        text-align: right;\n",
              "    }\n",
              "</style>\n",
              "<table border=\"1\" class=\"dataframe\">\n",
              "  <thead>\n",
              "    <tr style=\"text-align: right;\">\n",
              "      <th></th>\n",
              "      <th>Pclass</th>\n",
              "      <th>Sex</th>\n",
              "      <th>Age</th>\n",
              "      <th>SibSp</th>\n",
              "      <th>Parch</th>\n",
              "      <th>Fare</th>\n",
              "      <th>Embarked</th>\n",
              "    </tr>\n",
              "  </thead>\n",
              "  <tbody>\n",
              "    <tr>\n",
              "      <th>210</th>\n",
              "      <td>3</td>\n",
              "      <td>0</td>\n",
              "      <td>1</td>\n",
              "      <td>0</td>\n",
              "      <td>0</td>\n",
              "      <td>0</td>\n",
              "      <td>0</td>\n",
              "    </tr>\n",
              "    <tr>\n",
              "      <th>121</th>\n",
              "      <td>3</td>\n",
              "      <td>0</td>\n",
              "      <td>2</td>\n",
              "      <td>0</td>\n",
              "      <td>0</td>\n",
              "      <td>0</td>\n",
              "      <td>0</td>\n",
              "    </tr>\n",
              "    <tr>\n",
              "      <th>523</th>\n",
              "      <td>1</td>\n",
              "      <td>1</td>\n",
              "      <td>3</td>\n",
              "      <td>0</td>\n",
              "      <td>1</td>\n",
              "      <td>2</td>\n",
              "      <td>1</td>\n",
              "    </tr>\n",
              "    <tr>\n",
              "      <th>236</th>\n",
              "      <td>2</td>\n",
              "      <td>0</td>\n",
              "      <td>3</td>\n",
              "      <td>1</td>\n",
              "      <td>0</td>\n",
              "      <td>1</td>\n",
              "      <td>0</td>\n",
              "    </tr>\n",
              "    <tr>\n",
              "      <th>124</th>\n",
              "      <td>1</td>\n",
              "      <td>0</td>\n",
              "      <td>3</td>\n",
              "      <td>0</td>\n",
              "      <td>1</td>\n",
              "      <td>2</td>\n",
              "      <td>0</td>\n",
              "    </tr>\n",
              "  </tbody>\n",
              "</table>\n",
              "</div>"
            ],
            "text/plain": [
              "     Pclass  Sex  Age  SibSp  Parch  Fare  Embarked\n",
              "210       3    0    1      0      0     0         0\n",
              "121       3    0    2      0      0     0         0\n",
              "523       1    1    3      0      1     2         1\n",
              "236       2    0    3      1      0     1         0\n",
              "124       1    0    3      0      1     2         0"
            ]
          },
          "metadata": {
            "tags": []
          },
          "execution_count": 196
        }
      ]
    },
    {
      "metadata": {
        "id": "OHSf2JbmOtPj",
        "colab_type": "code",
        "colab": {
          "base_uri": "https://localhost:8080/",
          "height": 34
        },
        "outputId": "6de87fa9-f37d-4d2f-d5ad-e2deeb40cd92"
      },
      "cell_type": "code",
      "source": [
        "shuffled_data.shape[0]"
      ],
      "execution_count": 197,
      "outputs": [
        {
          "output_type": "execute_result",
          "data": {
            "text/plain": [
              "684"
            ]
          },
          "metadata": {
            "tags": []
          },
          "execution_count": 197
        }
      ]
    },
    {
      "metadata": {
        "id": "JD3yYcdqOxJt",
        "colab_type": "code",
        "colab": {
          "base_uri": "https://localhost:8080/",
          "height": 85
        },
        "outputId": "d1951866-f759-4b56-f2f5-e47677915fd0"
      },
      "cell_type": "code",
      "source": [
        "#split into training, validation and test\n",
        "sample_count_of_preprocess_data = shuffled_data.shape[0]\n",
        "\n",
        "training_sample_count = int(0.8*sample_count_of_preprocess_data)\n",
        "validation_sample_count = int(0.1*sample_count_of_preprocess_data)\n",
        "test_sample_count = sample_count_of_preprocess_data - training_sample_count - validation_sample_count\n",
        "\n",
        "#time to divide data into these training, validation and test\n",
        "training_data = shuffled_data[:training_sample_count] #start to training_sample_count\n",
        "validation_data = shuffled_data[training_sample_count : training_sample_count + validation_sample_count]\n",
        "testing_data = shuffled_data[training_sample_count + validation_sample_count : ] #everything that is left\n",
        "\n",
        "training_targets = shuffled_targets[:training_sample_count]\n",
        "validation_targets = shuffled_targets[training_sample_count : training_sample_count + validation_sample_count]\n",
        "test_targets = shuffled_targets[training_sample_count + validation_sample_count :]\n",
        "\n",
        "#since we have balanced the data before spliting, it is a good idea to check here if the splitted data are balanced too. should be close to 50% for each seta s we only have 2 categories\n",
        "print(\"% of 1s in training data: \" + str(np.sum(training_targets)/training_sample_count))\n",
        "print(\"% of 1s in validation data: \" + str(np.sum(validation_targets)/validation_sample_count))\n",
        "print(\"% of 1s in test data: \" + str(np.sum(test_targets)/test_sample_count))\n",
        "\n",
        "#also that the total count adds up\n",
        "print(\"total: \" + str(training_sample_count + validation_sample_count + test_sample_count))"
      ],
      "execution_count": 198,
      "outputs": [
        {
          "output_type": "stream",
          "text": [
            "% of 1s in training data: 0.5009140767824497\n",
            "% of 1s in validation data: 0.5294117647058824\n",
            "% of 1s in test data: 0.463768115942029\n",
            "total: 684\n"
          ],
          "name": "stdout"
        }
      ]
    },
    {
      "metadata": {
        "id": "7Y6JIZBAPJog",
        "colab_type": "code",
        "colab": {}
      },
      "cell_type": "code",
      "source": [
        "#save 3 data sets in npz files\n",
        "np.savez('Titanic_Training_Data.npz',inputs=training_data, targets = training_targets)\n",
        "np.savez('Titanic_Validation_Data.npz',inputs=validation_data, targets = validation_targets)\n",
        "np.savez('Titanic_Test_Data.npz',inputs=testing_data, targets = test_targets)\n",
        "#data now is preprocessed. So pre processing complete"
      ],
      "execution_count": 0,
      "outputs": []
    },
    {
      "metadata": {
        "id": "vogQ8OOQPV-s",
        "colab_type": "text"
      },
      "cell_type": "markdown",
      "source": [
        "##Model"
      ]
    },
    {
      "metadata": {
        "id": "6j5BeuwqPO1T",
        "colab_type": "code",
        "colab": {}
      },
      "cell_type": "code",
      "source": [
        "\n",
        "# Create a class that will do the batching for the algorithm\n",
        "# This code is extremely reusable. You should just change Audiobooks_data everywhere in the code\n",
        "class Data_Reader():\n",
        "    # Dataset is a mandatory arugment, while the batch_size is optional\n",
        "    # If you don't input batch_size, it will automatically take the value: None\n",
        "    def __init__(self, dataset, batch_size = None):\n",
        "    \n",
        "        # The dataset that loads is one of \"train\", \"validation\", \"test\".\n",
        "        # e.g. if I call this class with x('train',5), it will load 'Audiobooks_data_train.npz' with a batch size of 5.\n",
        "        npz = np.load('Titanic_{0}_Data.npz'.format(dataset))\n",
        "        \n",
        "        # Two variables that take the values of the inputs and the targets. Inputs are floats, targets are integers\n",
        "        self.inputs, self.targets = npz['inputs'].astype(np.float), npz['targets'].astype(np.int)\n",
        "        \n",
        "        # Counts the batch number, given the size you feed it later\n",
        "        # If the batch size is None, we are either validating or testing, so we want to take the data in a single batch\n",
        "        if batch_size is None:\n",
        "            self.batch_size = self.inputs.shape[0]\n",
        "        else:\n",
        "            self.batch_size = batch_size\n",
        "        self.curr_batch = 0\n",
        "        self.batch_count = self.inputs.shape[0] // self.batch_size\n",
        "    \n",
        "    # A method which loads the next batch\n",
        "    def __next__(self):\n",
        "        if self.curr_batch >= self.batch_count:\n",
        "            self.curr_batch = 0\n",
        "            raise StopIteration()\n",
        "            \n",
        "        # You slice the dataset in batches and then the \"next\" function loads them one after the other\n",
        "        batch_slice = slice(self.curr_batch * self.batch_size, (self.curr_batch + 1) * self.batch_size)\n",
        "        inputs_batch = self.inputs[batch_slice]\n",
        "        targets_batch = self.targets[batch_slice]\n",
        "        self.curr_batch += 1\n",
        "        \n",
        "        # One-hot encode the targets. In this example it's a bit superfluous since we have a 0/1 column \n",
        "        # as a target already but we're giving you the code regardless, as it will be useful for any \n",
        "        # classification task with more than one target column\n",
        "        classes_num = 2\n",
        "        targets_one_hot = np.zeros((targets_batch.shape[0], classes_num))\n",
        "        targets_one_hot[range(targets_batch.shape[0]), targets_batch] = 1\n",
        "        \n",
        "        # The function will return the inputs batch and the one-hot encoded targets\n",
        "        return inputs_batch, targets_one_hot\n",
        "    \n",
        "        \n",
        "    # A method needed for iterating over the batches, as we will put them in a loop\n",
        "    # This tells Python that the class we're defining is iterable, i.e. that we can use it like:\n",
        "    # for input, output in data: \n",
        "        # do things\n",
        "    # An iterator in Python is a class with a method __next__ that defines exactly how to iterate through its objects\n",
        "    def __iter__(self):\n",
        "        return self"
      ],
      "execution_count": 0,
      "outputs": []
    },
    {
      "metadata": {
        "id": "onMmEUQbPg1D",
        "colab_type": "code",
        "colab": {}
      },
      "cell_type": "code",
      "source": [
        "#model\n",
        "\n",
        "input_size = 7\n",
        "output_size = 2\n",
        "hidden_layer_size = 50\n",
        "\n",
        "tf.reset_default_graph()\n",
        "\n",
        "inputs_placeholder = tf.placeholder(tf.float32,[None,input_size])\n",
        "targets_placeholder = tf.placeholder(tf.float32,[None,output_size])\n",
        "\n",
        "#hidden layer 1\n",
        "weights_1 = tf.get_variable(\"weigths_1\",[input_size,hidden_layer_size]) #if initialized this way, the default initializer is xavier\n",
        "biases_1 = tf.get_variable(\"biases_1\",[hidden_layer_size])\n",
        "output_1 = tf.nn.sigmoid(tf.matmul(inputs_placeholder,weights_1) + biases_1)\n",
        "\n",
        "\n",
        "#output layer\n",
        "weights_2 = tf.get_variable(\"weigths_2\",[hidden_layer_size,output_size]) #if initialized this way, the default initializer is xavier\n",
        "biases_2 = tf.get_variable(\"biases_2\",[output_size])\n",
        "outputs = tf.matmul(output_1,weights_2) + biases_2"
      ],
      "execution_count": 0,
      "outputs": []
    },
    {
      "metadata": {
        "id": "k_J1Az4hPr81",
        "colab_type": "code",
        "colab": {}
      },
      "cell_type": "code",
      "source": [
        "#calculate loss/delta\n",
        "predictions = tf.nn.softmax(outputs)\n",
        "loss = tf.nn.softmax_cross_entropy_with_logits(logits=outputs,labels=targets_placeholder)\n",
        "\n",
        "mean_loss = tf.reduce_mean(loss)"
      ],
      "execution_count": 0,
      "outputs": []
    },
    {
      "metadata": {
        "id": "Rd6TYdIcPvgr",
        "colab_type": "code",
        "colab": {}
      },
      "cell_type": "code",
      "source": [
        "#optimize\n",
        "learning_rate = 0.001\n",
        "optimize = tf.train.AdamOptimizer(learning_rate = learning_rate).minimize(mean_loss)"
      ],
      "execution_count": 0,
      "outputs": []
    },
    {
      "metadata": {
        "id": "VuDjA_qLPzFz",
        "colab_type": "code",
        "colab": {}
      },
      "cell_type": "code",
      "source": [
        "#test accuracy\n",
        "out_equals_target = tf.equal(tf.argmax(outputs,1),tf.argmax(targets_placeholder,1))\n",
        "#out_equals_target is a vector containing 1 if accurately predcted else 0. the accuracy is the mean of this vector\n",
        "accuracy = tf.reduce_mean(tf.cast(out_equals_target,tf.float32))"
      ],
      "execution_count": 0,
      "outputs": []
    },
    {
      "metadata": {
        "id": "GxqMlIZIP1Dm",
        "colab_type": "code",
        "colab": {
          "base_uri": "https://localhost:8080/",
          "height": 71
        },
        "outputId": "656c692c-bc13-4324-9da6-7637ebc25666"
      },
      "cell_type": "code",
      "source": [
        "#session\n",
        "session = tf.InteractiveSession()\n",
        "#initializer\n",
        "initializer=tf.global_variables_initializer()\n",
        "session.run(initializer)"
      ],
      "execution_count": 205,
      "outputs": [
        {
          "output_type": "stream",
          "text": [
            "/usr/local/lib/python3.6/dist-packages/tensorflow/python/client/session.py:1702: UserWarning: An interactive session is already active. This can cause out-of-memory errors in some cases. You must explicitly call `InteractiveSession.close()` to release resources held by the other session(s).\n",
            "  warnings.warn('An interactive session is already active. This can '\n"
          ],
          "name": "stderr"
        }
      ]
    },
    {
      "metadata": {
        "id": "B_Sv1NLzP28O",
        "colab_type": "code",
        "colab": {}
      },
      "cell_type": "code",
      "source": [
        "#batching\n",
        "batch_size = 50\n",
        "#batch number is handled in Data_Reader class\n",
        "max_epoch = 400\n",
        "prev_validation_loss = 9999999999.\n",
        "\n",
        "#get data\n",
        "training_df = Data_Reader('Training',batch_size)\n",
        "validation_df = Data_Reader('Validation',batch_size)"
      ],
      "execution_count": 0,
      "outputs": []
    },
    {
      "metadata": {
        "id": "Ld7Jqt-qP64g",
        "colab_type": "code",
        "colab": {
          "base_uri": "https://localhost:8080/",
          "height": 6834
        },
        "outputId": "f0997832-82a3-48ed-cffb-3643f3a5a97a"
      },
      "cell_type": "code",
      "source": [
        "#train model\n",
        "for epoch in range(max_epoch):\n",
        "  curr_epoch_loss = 0\n",
        "  #train\n",
        "  for input_batch, target_batch in training_df:\n",
        "    _, batch_loss = session.run([optimize,mean_loss], feed_dict = {inputs_placeholder: input_batch, targets_placeholder:target_batch})\n",
        "    curr_epoch_loss += batch_loss\n",
        "  \n",
        "  curr_epoch_loss /= training_df.batch_count\n",
        "  \n",
        "  #validate\n",
        "  validation_loss = 0.\n",
        "  validation_accuracy = 0.\n",
        "  for input_batch, target_batch in validation_df: #this will always have a single iteration but easy way to get input and target batches\n",
        "    validation_loss, validation_accuracy = session.run([mean_loss,accuracy], feed_dict = {inputs_placeholder: input_batch, targets_placeholder:target_batch})\n",
        "  \n",
        "  \n",
        "  print('Epoch '+str(epoch+1)\n",
        "         + '. Training loss: '+'{0:.3f}'.format(curr_epoch_loss)\n",
        "         +'. Validation loss: '+'{0:.3f}'.format(validation_loss)\n",
        "         +'. Validation accuracy: '+'{0:.2f}'.format(validation_accuracy * 100.)+'%')\n",
        "  #early stop\n",
        "  if validation_loss > prev_validation_loss:\n",
        "    break\n",
        "    \n",
        "  prev_validation_loss = validation_loss\n",
        "  \n",
        "print('End of Training')"
      ],
      "execution_count": 207,
      "outputs": [
        {
          "output_type": "stream",
          "text": [
            "Epoch 1. Training loss: 0.706. Validation loss: 0.692. Validation accuracy: 54.00%\n",
            "Epoch 2. Training loss: 0.683. Validation loss: 0.686. Validation accuracy: 52.00%\n",
            "Epoch 3. Training loss: 0.672. Validation loss: 0.676. Validation accuracy: 64.00%\n",
            "Epoch 4. Training loss: 0.661. Validation loss: 0.667. Validation accuracy: 66.00%\n",
            "Epoch 5. Training loss: 0.652. Validation loss: 0.659. Validation accuracy: 66.00%\n",
            "Epoch 6. Training loss: 0.644. Validation loss: 0.653. Validation accuracy: 66.00%\n",
            "Epoch 7. Training loss: 0.636. Validation loss: 0.646. Validation accuracy: 66.00%\n",
            "Epoch 8. Training loss: 0.628. Validation loss: 0.640. Validation accuracy: 66.00%\n",
            "Epoch 9. Training loss: 0.621. Validation loss: 0.634. Validation accuracy: 66.00%\n",
            "Epoch 10. Training loss: 0.614. Validation loss: 0.628. Validation accuracy: 68.00%\n",
            "Epoch 11. Training loss: 0.608. Validation loss: 0.623. Validation accuracy: 72.00%\n",
            "Epoch 12. Training loss: 0.602. Validation loss: 0.618. Validation accuracy: 76.00%\n",
            "Epoch 13. Training loss: 0.597. Validation loss: 0.613. Validation accuracy: 76.00%\n",
            "Epoch 14. Training loss: 0.591. Validation loss: 0.608. Validation accuracy: 76.00%\n",
            "Epoch 15. Training loss: 0.586. Validation loss: 0.604. Validation accuracy: 76.00%\n",
            "Epoch 16. Training loss: 0.581. Validation loss: 0.599. Validation accuracy: 76.00%\n",
            "Epoch 17. Training loss: 0.577. Validation loss: 0.595. Validation accuracy: 78.00%\n",
            "Epoch 18. Training loss: 0.572. Validation loss: 0.591. Validation accuracy: 78.00%\n",
            "Epoch 19. Training loss: 0.568. Validation loss: 0.587. Validation accuracy: 78.00%\n",
            "Epoch 20. Training loss: 0.564. Validation loss: 0.583. Validation accuracy: 78.00%\n",
            "Epoch 21. Training loss: 0.560. Validation loss: 0.579. Validation accuracy: 78.00%\n",
            "Epoch 22. Training loss: 0.557. Validation loss: 0.576. Validation accuracy: 78.00%\n",
            "Epoch 23. Training loss: 0.553. Validation loss: 0.572. Validation accuracy: 78.00%\n",
            "Epoch 24. Training loss: 0.550. Validation loss: 0.568. Validation accuracy: 78.00%\n",
            "Epoch 25. Training loss: 0.546. Validation loss: 0.565. Validation accuracy: 78.00%\n",
            "Epoch 26. Training loss: 0.543. Validation loss: 0.561. Validation accuracy: 78.00%\n",
            "Epoch 27. Training loss: 0.540. Validation loss: 0.558. Validation accuracy: 76.00%\n",
            "Epoch 28. Training loss: 0.537. Validation loss: 0.555. Validation accuracy: 74.00%\n",
            "Epoch 29. Training loss: 0.534. Validation loss: 0.551. Validation accuracy: 74.00%\n",
            "Epoch 30. Training loss: 0.532. Validation loss: 0.548. Validation accuracy: 74.00%\n",
            "Epoch 31. Training loss: 0.529. Validation loss: 0.545. Validation accuracy: 74.00%\n",
            "Epoch 32. Training loss: 0.526. Validation loss: 0.542. Validation accuracy: 74.00%\n",
            "Epoch 33. Training loss: 0.524. Validation loss: 0.539. Validation accuracy: 74.00%\n",
            "Epoch 34. Training loss: 0.521. Validation loss: 0.536. Validation accuracy: 74.00%\n",
            "Epoch 35. Training loss: 0.519. Validation loss: 0.533. Validation accuracy: 74.00%\n",
            "Epoch 36. Training loss: 0.517. Validation loss: 0.531. Validation accuracy: 74.00%\n",
            "Epoch 37. Training loss: 0.515. Validation loss: 0.528. Validation accuracy: 74.00%\n",
            "Epoch 38. Training loss: 0.513. Validation loss: 0.526. Validation accuracy: 74.00%\n",
            "Epoch 39. Training loss: 0.511. Validation loss: 0.523. Validation accuracy: 74.00%\n",
            "Epoch 40. Training loss: 0.509. Validation loss: 0.521. Validation accuracy: 72.00%\n",
            "Epoch 41. Training loss: 0.507. Validation loss: 0.518. Validation accuracy: 72.00%\n",
            "Epoch 42. Training loss: 0.505. Validation loss: 0.516. Validation accuracy: 72.00%\n",
            "Epoch 43. Training loss: 0.504. Validation loss: 0.514. Validation accuracy: 72.00%\n",
            "Epoch 44. Training loss: 0.502. Validation loss: 0.512. Validation accuracy: 72.00%\n",
            "Epoch 45. Training loss: 0.501. Validation loss: 0.510. Validation accuracy: 72.00%\n",
            "Epoch 46. Training loss: 0.499. Validation loss: 0.508. Validation accuracy: 72.00%\n",
            "Epoch 47. Training loss: 0.498. Validation loss: 0.506. Validation accuracy: 72.00%\n",
            "Epoch 48. Training loss: 0.497. Validation loss: 0.504. Validation accuracy: 72.00%\n",
            "Epoch 49. Training loss: 0.496. Validation loss: 0.502. Validation accuracy: 72.00%\n",
            "Epoch 50. Training loss: 0.494. Validation loss: 0.501. Validation accuracy: 72.00%\n",
            "Epoch 51. Training loss: 0.493. Validation loss: 0.499. Validation accuracy: 72.00%\n",
            "Epoch 52. Training loss: 0.492. Validation loss: 0.497. Validation accuracy: 72.00%\n",
            "Epoch 53. Training loss: 0.491. Validation loss: 0.496. Validation accuracy: 72.00%\n",
            "Epoch 54. Training loss: 0.490. Validation loss: 0.495. Validation accuracy: 72.00%\n",
            "Epoch 55. Training loss: 0.490. Validation loss: 0.493. Validation accuracy: 72.00%\n",
            "Epoch 56. Training loss: 0.489. Validation loss: 0.492. Validation accuracy: 72.00%\n",
            "Epoch 57. Training loss: 0.488. Validation loss: 0.491. Validation accuracy: 72.00%\n",
            "Epoch 58. Training loss: 0.487. Validation loss: 0.490. Validation accuracy: 72.00%\n",
            "Epoch 59. Training loss: 0.487. Validation loss: 0.489. Validation accuracy: 72.00%\n",
            "Epoch 60. Training loss: 0.486. Validation loss: 0.488. Validation accuracy: 72.00%\n",
            "Epoch 61. Training loss: 0.485. Validation loss: 0.487. Validation accuracy: 72.00%\n",
            "Epoch 62. Training loss: 0.485. Validation loss: 0.486. Validation accuracy: 72.00%\n",
            "Epoch 63. Training loss: 0.484. Validation loss: 0.485. Validation accuracy: 72.00%\n",
            "Epoch 64. Training loss: 0.484. Validation loss: 0.484. Validation accuracy: 72.00%\n",
            "Epoch 65. Training loss: 0.483. Validation loss: 0.483. Validation accuracy: 72.00%\n",
            "Epoch 66. Training loss: 0.483. Validation loss: 0.482. Validation accuracy: 72.00%\n",
            "Epoch 67. Training loss: 0.482. Validation loss: 0.482. Validation accuracy: 72.00%\n",
            "Epoch 68. Training loss: 0.482. Validation loss: 0.481. Validation accuracy: 72.00%\n",
            "Epoch 69. Training loss: 0.482. Validation loss: 0.480. Validation accuracy: 72.00%\n",
            "Epoch 70. Training loss: 0.481. Validation loss: 0.480. Validation accuracy: 72.00%\n",
            "Epoch 71. Training loss: 0.481. Validation loss: 0.479. Validation accuracy: 72.00%\n",
            "Epoch 72. Training loss: 0.481. Validation loss: 0.478. Validation accuracy: 72.00%\n",
            "Epoch 73. Training loss: 0.481. Validation loss: 0.478. Validation accuracy: 72.00%\n",
            "Epoch 74. Training loss: 0.480. Validation loss: 0.477. Validation accuracy: 72.00%\n",
            "Epoch 75. Training loss: 0.480. Validation loss: 0.477. Validation accuracy: 72.00%\n",
            "Epoch 76. Training loss: 0.480. Validation loss: 0.476. Validation accuracy: 72.00%\n",
            "Epoch 77. Training loss: 0.480. Validation loss: 0.476. Validation accuracy: 72.00%\n",
            "Epoch 78. Training loss: 0.479. Validation loss: 0.475. Validation accuracy: 72.00%\n",
            "Epoch 79. Training loss: 0.479. Validation loss: 0.475. Validation accuracy: 72.00%\n",
            "Epoch 80. Training loss: 0.479. Validation loss: 0.474. Validation accuracy: 72.00%\n",
            "Epoch 81. Training loss: 0.479. Validation loss: 0.474. Validation accuracy: 72.00%\n",
            "Epoch 82. Training loss: 0.479. Validation loss: 0.474. Validation accuracy: 72.00%\n",
            "Epoch 83. Training loss: 0.479. Validation loss: 0.473. Validation accuracy: 72.00%\n",
            "Epoch 84. Training loss: 0.478. Validation loss: 0.473. Validation accuracy: 72.00%\n",
            "Epoch 85. Training loss: 0.478. Validation loss: 0.472. Validation accuracy: 72.00%\n",
            "Epoch 86. Training loss: 0.478. Validation loss: 0.472. Validation accuracy: 72.00%\n",
            "Epoch 87. Training loss: 0.478. Validation loss: 0.472. Validation accuracy: 72.00%\n",
            "Epoch 88. Training loss: 0.478. Validation loss: 0.471. Validation accuracy: 72.00%\n",
            "Epoch 89. Training loss: 0.478. Validation loss: 0.471. Validation accuracy: 72.00%\n",
            "Epoch 90. Training loss: 0.478. Validation loss: 0.471. Validation accuracy: 72.00%\n",
            "Epoch 91. Training loss: 0.478. Validation loss: 0.471. Validation accuracy: 72.00%\n",
            "Epoch 92. Training loss: 0.477. Validation loss: 0.470. Validation accuracy: 72.00%\n",
            "Epoch 93. Training loss: 0.477. Validation loss: 0.470. Validation accuracy: 72.00%\n",
            "Epoch 94. Training loss: 0.477. Validation loss: 0.470. Validation accuracy: 72.00%\n",
            "Epoch 95. Training loss: 0.477. Validation loss: 0.469. Validation accuracy: 72.00%\n",
            "Epoch 96. Training loss: 0.477. Validation loss: 0.469. Validation accuracy: 72.00%\n",
            "Epoch 97. Training loss: 0.477. Validation loss: 0.469. Validation accuracy: 72.00%\n",
            "Epoch 98. Training loss: 0.477. Validation loss: 0.469. Validation accuracy: 74.00%\n",
            "Epoch 99. Training loss: 0.477. Validation loss: 0.468. Validation accuracy: 74.00%\n",
            "Epoch 100. Training loss: 0.477. Validation loss: 0.468. Validation accuracy: 74.00%\n",
            "Epoch 101. Training loss: 0.477. Validation loss: 0.468. Validation accuracy: 74.00%\n",
            "Epoch 102. Training loss: 0.477. Validation loss: 0.468. Validation accuracy: 74.00%\n",
            "Epoch 103. Training loss: 0.476. Validation loss: 0.467. Validation accuracy: 74.00%\n",
            "Epoch 104. Training loss: 0.476. Validation loss: 0.467. Validation accuracy: 74.00%\n",
            "Epoch 105. Training loss: 0.476. Validation loss: 0.467. Validation accuracy: 74.00%\n",
            "Epoch 106. Training loss: 0.476. Validation loss: 0.467. Validation accuracy: 74.00%\n",
            "Epoch 107. Training loss: 0.476. Validation loss: 0.467. Validation accuracy: 74.00%\n",
            "Epoch 108. Training loss: 0.476. Validation loss: 0.466. Validation accuracy: 74.00%\n",
            "Epoch 109. Training loss: 0.476. Validation loss: 0.466. Validation accuracy: 74.00%\n",
            "Epoch 110. Training loss: 0.476. Validation loss: 0.466. Validation accuracy: 74.00%\n",
            "Epoch 111. Training loss: 0.476. Validation loss: 0.466. Validation accuracy: 74.00%\n",
            "Epoch 112. Training loss: 0.476. Validation loss: 0.465. Validation accuracy: 74.00%\n",
            "Epoch 113. Training loss: 0.476. Validation loss: 0.465. Validation accuracy: 74.00%\n",
            "Epoch 114. Training loss: 0.476. Validation loss: 0.465. Validation accuracy: 74.00%\n",
            "Epoch 115. Training loss: 0.476. Validation loss: 0.465. Validation accuracy: 74.00%\n",
            "Epoch 116. Training loss: 0.476. Validation loss: 0.465. Validation accuracy: 74.00%\n",
            "Epoch 117. Training loss: 0.476. Validation loss: 0.465. Validation accuracy: 74.00%\n",
            "Epoch 118. Training loss: 0.476. Validation loss: 0.464. Validation accuracy: 74.00%\n",
            "Epoch 119. Training loss: 0.475. Validation loss: 0.464. Validation accuracy: 74.00%\n",
            "Epoch 120. Training loss: 0.475. Validation loss: 0.464. Validation accuracy: 74.00%\n",
            "Epoch 121. Training loss: 0.475. Validation loss: 0.464. Validation accuracy: 74.00%\n",
            "Epoch 122. Training loss: 0.475. Validation loss: 0.464. Validation accuracy: 74.00%\n",
            "Epoch 123. Training loss: 0.475. Validation loss: 0.463. Validation accuracy: 74.00%\n",
            "Epoch 124. Training loss: 0.475. Validation loss: 0.463. Validation accuracy: 74.00%\n",
            "Epoch 125. Training loss: 0.475. Validation loss: 0.463. Validation accuracy: 74.00%\n",
            "Epoch 126. Training loss: 0.475. Validation loss: 0.463. Validation accuracy: 74.00%\n",
            "Epoch 127. Training loss: 0.475. Validation loss: 0.463. Validation accuracy: 74.00%\n",
            "Epoch 128. Training loss: 0.475. Validation loss: 0.463. Validation accuracy: 74.00%\n",
            "Epoch 129. Training loss: 0.475. Validation loss: 0.462. Validation accuracy: 74.00%\n",
            "Epoch 130. Training loss: 0.475. Validation loss: 0.462. Validation accuracy: 74.00%\n",
            "Epoch 131. Training loss: 0.475. Validation loss: 0.462. Validation accuracy: 74.00%\n",
            "Epoch 132. Training loss: 0.475. Validation loss: 0.462. Validation accuracy: 74.00%\n",
            "Epoch 133. Training loss: 0.475. Validation loss: 0.462. Validation accuracy: 74.00%\n",
            "Epoch 134. Training loss: 0.475. Validation loss: 0.462. Validation accuracy: 74.00%\n",
            "Epoch 135. Training loss: 0.475. Validation loss: 0.461. Validation accuracy: 74.00%\n",
            "Epoch 136. Training loss: 0.475. Validation loss: 0.461. Validation accuracy: 74.00%\n",
            "Epoch 137. Training loss: 0.475. Validation loss: 0.461. Validation accuracy: 74.00%\n",
            "Epoch 138. Training loss: 0.475. Validation loss: 0.461. Validation accuracy: 74.00%\n",
            "Epoch 139. Training loss: 0.474. Validation loss: 0.461. Validation accuracy: 74.00%\n",
            "Epoch 140. Training loss: 0.474. Validation loss: 0.461. Validation accuracy: 74.00%\n",
            "Epoch 141. Training loss: 0.474. Validation loss: 0.460. Validation accuracy: 74.00%\n",
            "Epoch 142. Training loss: 0.474. Validation loss: 0.460. Validation accuracy: 74.00%\n",
            "Epoch 143. Training loss: 0.474. Validation loss: 0.460. Validation accuracy: 74.00%\n",
            "Epoch 144. Training loss: 0.474. Validation loss: 0.460. Validation accuracy: 74.00%\n",
            "Epoch 145. Training loss: 0.474. Validation loss: 0.460. Validation accuracy: 74.00%\n",
            "Epoch 146. Training loss: 0.474. Validation loss: 0.460. Validation accuracy: 74.00%\n",
            "Epoch 147. Training loss: 0.474. Validation loss: 0.460. Validation accuracy: 74.00%\n",
            "Epoch 148. Training loss: 0.474. Validation loss: 0.459. Validation accuracy: 74.00%\n",
            "Epoch 149. Training loss: 0.474. Validation loss: 0.459. Validation accuracy: 74.00%\n",
            "Epoch 150. Training loss: 0.474. Validation loss: 0.459. Validation accuracy: 74.00%\n",
            "Epoch 151. Training loss: 0.474. Validation loss: 0.459. Validation accuracy: 74.00%\n",
            "Epoch 152. Training loss: 0.474. Validation loss: 0.459. Validation accuracy: 74.00%\n",
            "Epoch 153. Training loss: 0.474. Validation loss: 0.459. Validation accuracy: 74.00%\n",
            "Epoch 154. Training loss: 0.474. Validation loss: 0.459. Validation accuracy: 74.00%\n",
            "Epoch 155. Training loss: 0.474. Validation loss: 0.458. Validation accuracy: 74.00%\n",
            "Epoch 156. Training loss: 0.474. Validation loss: 0.458. Validation accuracy: 74.00%\n",
            "Epoch 157. Training loss: 0.474. Validation loss: 0.458. Validation accuracy: 74.00%\n",
            "Epoch 158. Training loss: 0.474. Validation loss: 0.458. Validation accuracy: 74.00%\n",
            "Epoch 159. Training loss: 0.474. Validation loss: 0.458. Validation accuracy: 74.00%\n",
            "Epoch 160. Training loss: 0.474. Validation loss: 0.458. Validation accuracy: 74.00%\n",
            "Epoch 161. Training loss: 0.473. Validation loss: 0.458. Validation accuracy: 74.00%\n",
            "Epoch 162. Training loss: 0.473. Validation loss: 0.457. Validation accuracy: 74.00%\n",
            "Epoch 163. Training loss: 0.473. Validation loss: 0.457. Validation accuracy: 74.00%\n",
            "Epoch 164. Training loss: 0.473. Validation loss: 0.457. Validation accuracy: 74.00%\n",
            "Epoch 165. Training loss: 0.473. Validation loss: 0.457. Validation accuracy: 74.00%\n",
            "Epoch 166. Training loss: 0.473. Validation loss: 0.457. Validation accuracy: 74.00%\n",
            "Epoch 167. Training loss: 0.473. Validation loss: 0.457. Validation accuracy: 74.00%\n",
            "Epoch 168. Training loss: 0.473. Validation loss: 0.457. Validation accuracy: 74.00%\n",
            "Epoch 169. Training loss: 0.473. Validation loss: 0.456. Validation accuracy: 74.00%\n",
            "Epoch 170. Training loss: 0.473. Validation loss: 0.456. Validation accuracy: 74.00%\n",
            "Epoch 171. Training loss: 0.473. Validation loss: 0.456. Validation accuracy: 74.00%\n",
            "Epoch 172. Training loss: 0.473. Validation loss: 0.456. Validation accuracy: 74.00%\n",
            "Epoch 173. Training loss: 0.473. Validation loss: 0.456. Validation accuracy: 74.00%\n",
            "Epoch 174. Training loss: 0.473. Validation loss: 0.456. Validation accuracy: 74.00%\n",
            "Epoch 175. Training loss: 0.473. Validation loss: 0.456. Validation accuracy: 74.00%\n",
            "Epoch 176. Training loss: 0.473. Validation loss: 0.456. Validation accuracy: 74.00%\n",
            "Epoch 177. Training loss: 0.473. Validation loss: 0.455. Validation accuracy: 74.00%\n",
            "Epoch 178. Training loss: 0.473. Validation loss: 0.455. Validation accuracy: 74.00%\n",
            "Epoch 179. Training loss: 0.473. Validation loss: 0.455. Validation accuracy: 74.00%\n",
            "Epoch 180. Training loss: 0.473. Validation loss: 0.455. Validation accuracy: 74.00%\n",
            "Epoch 181. Training loss: 0.473. Validation loss: 0.455. Validation accuracy: 74.00%\n",
            "Epoch 182. Training loss: 0.473. Validation loss: 0.455. Validation accuracy: 74.00%\n",
            "Epoch 183. Training loss: 0.473. Validation loss: 0.455. Validation accuracy: 74.00%\n",
            "Epoch 184. Training loss: 0.473. Validation loss: 0.454. Validation accuracy: 74.00%\n",
            "Epoch 185. Training loss: 0.473. Validation loss: 0.454. Validation accuracy: 74.00%\n",
            "Epoch 186. Training loss: 0.472. Validation loss: 0.454. Validation accuracy: 74.00%\n",
            "Epoch 187. Training loss: 0.472. Validation loss: 0.454. Validation accuracy: 74.00%\n",
            "Epoch 188. Training loss: 0.472. Validation loss: 0.454. Validation accuracy: 74.00%\n",
            "Epoch 189. Training loss: 0.472. Validation loss: 0.454. Validation accuracy: 74.00%\n",
            "Epoch 190. Training loss: 0.472. Validation loss: 0.454. Validation accuracy: 74.00%\n",
            "Epoch 191. Training loss: 0.472. Validation loss: 0.454. Validation accuracy: 74.00%\n",
            "Epoch 192. Training loss: 0.472. Validation loss: 0.453. Validation accuracy: 74.00%\n",
            "Epoch 193. Training loss: 0.472. Validation loss: 0.453. Validation accuracy: 74.00%\n",
            "Epoch 194. Training loss: 0.472. Validation loss: 0.453. Validation accuracy: 74.00%\n",
            "Epoch 195. Training loss: 0.472. Validation loss: 0.453. Validation accuracy: 74.00%\n",
            "Epoch 196. Training loss: 0.472. Validation loss: 0.453. Validation accuracy: 74.00%\n",
            "Epoch 197. Training loss: 0.472. Validation loss: 0.453. Validation accuracy: 74.00%\n",
            "Epoch 198. Training loss: 0.472. Validation loss: 0.453. Validation accuracy: 74.00%\n",
            "Epoch 199. Training loss: 0.472. Validation loss: 0.453. Validation accuracy: 74.00%\n",
            "Epoch 200. Training loss: 0.472. Validation loss: 0.452. Validation accuracy: 74.00%\n",
            "Epoch 201. Training loss: 0.472. Validation loss: 0.452. Validation accuracy: 74.00%\n",
            "Epoch 202. Training loss: 0.472. Validation loss: 0.452. Validation accuracy: 74.00%\n",
            "Epoch 203. Training loss: 0.472. Validation loss: 0.452. Validation accuracy: 74.00%\n",
            "Epoch 204. Training loss: 0.472. Validation loss: 0.452. Validation accuracy: 74.00%\n",
            "Epoch 205. Training loss: 0.472. Validation loss: 0.452. Validation accuracy: 74.00%\n",
            "Epoch 206. Training loss: 0.472. Validation loss: 0.452. Validation accuracy: 74.00%\n",
            "Epoch 207. Training loss: 0.472. Validation loss: 0.452. Validation accuracy: 74.00%\n",
            "Epoch 208. Training loss: 0.472. Validation loss: 0.451. Validation accuracy: 74.00%\n",
            "Epoch 209. Training loss: 0.472. Validation loss: 0.451. Validation accuracy: 74.00%\n",
            "Epoch 210. Training loss: 0.472. Validation loss: 0.451. Validation accuracy: 74.00%\n",
            "Epoch 211. Training loss: 0.472. Validation loss: 0.451. Validation accuracy: 74.00%\n",
            "Epoch 212. Training loss: 0.472. Validation loss: 0.451. Validation accuracy: 74.00%\n",
            "Epoch 213. Training loss: 0.471. Validation loss: 0.451. Validation accuracy: 74.00%\n",
            "Epoch 214. Training loss: 0.471. Validation loss: 0.451. Validation accuracy: 74.00%\n",
            "Epoch 215. Training loss: 0.471. Validation loss: 0.451. Validation accuracy: 74.00%\n",
            "Epoch 216. Training loss: 0.471. Validation loss: 0.451. Validation accuracy: 74.00%\n",
            "Epoch 217. Training loss: 0.471. Validation loss: 0.450. Validation accuracy: 74.00%\n",
            "Epoch 218. Training loss: 0.471. Validation loss: 0.450. Validation accuracy: 74.00%\n",
            "Epoch 219. Training loss: 0.471. Validation loss: 0.450. Validation accuracy: 74.00%\n",
            "Epoch 220. Training loss: 0.471. Validation loss: 0.450. Validation accuracy: 74.00%\n",
            "Epoch 221. Training loss: 0.471. Validation loss: 0.450. Validation accuracy: 74.00%\n",
            "Epoch 222. Training loss: 0.471. Validation loss: 0.450. Validation accuracy: 74.00%\n",
            "Epoch 223. Training loss: 0.471. Validation loss: 0.450. Validation accuracy: 74.00%\n",
            "Epoch 224. Training loss: 0.471. Validation loss: 0.450. Validation accuracy: 74.00%\n",
            "Epoch 225. Training loss: 0.471. Validation loss: 0.449. Validation accuracy: 74.00%\n",
            "Epoch 226. Training loss: 0.471. Validation loss: 0.449. Validation accuracy: 74.00%\n",
            "Epoch 227. Training loss: 0.471. Validation loss: 0.449. Validation accuracy: 74.00%\n",
            "Epoch 228. Training loss: 0.471. Validation loss: 0.449. Validation accuracy: 74.00%\n",
            "Epoch 229. Training loss: 0.471. Validation loss: 0.449. Validation accuracy: 74.00%\n",
            "Epoch 230. Training loss: 0.471. Validation loss: 0.449. Validation accuracy: 74.00%\n",
            "Epoch 231. Training loss: 0.471. Validation loss: 0.449. Validation accuracy: 74.00%\n",
            "Epoch 232. Training loss: 0.471. Validation loss: 0.449. Validation accuracy: 74.00%\n",
            "Epoch 233. Training loss: 0.471. Validation loss: 0.449. Validation accuracy: 74.00%\n",
            "Epoch 234. Training loss: 0.471. Validation loss: 0.448. Validation accuracy: 74.00%\n",
            "Epoch 235. Training loss: 0.471. Validation loss: 0.448. Validation accuracy: 74.00%\n",
            "Epoch 236. Training loss: 0.471. Validation loss: 0.448. Validation accuracy: 74.00%\n",
            "Epoch 237. Training loss: 0.471. Validation loss: 0.448. Validation accuracy: 74.00%\n",
            "Epoch 238. Training loss: 0.471. Validation loss: 0.448. Validation accuracy: 74.00%\n",
            "Epoch 239. Training loss: 0.471. Validation loss: 0.448. Validation accuracy: 74.00%\n",
            "Epoch 240. Training loss: 0.470. Validation loss: 0.448. Validation accuracy: 74.00%\n",
            "Epoch 241. Training loss: 0.470. Validation loss: 0.448. Validation accuracy: 74.00%\n",
            "Epoch 242. Training loss: 0.470. Validation loss: 0.447. Validation accuracy: 74.00%\n",
            "Epoch 243. Training loss: 0.470. Validation loss: 0.447. Validation accuracy: 74.00%\n",
            "Epoch 244. Training loss: 0.470. Validation loss: 0.447. Validation accuracy: 74.00%\n",
            "Epoch 245. Training loss: 0.470. Validation loss: 0.447. Validation accuracy: 74.00%\n",
            "Epoch 246. Training loss: 0.470. Validation loss: 0.447. Validation accuracy: 74.00%\n",
            "Epoch 247. Training loss: 0.470. Validation loss: 0.447. Validation accuracy: 74.00%\n",
            "Epoch 248. Training loss: 0.470. Validation loss: 0.447. Validation accuracy: 74.00%\n",
            "Epoch 249. Training loss: 0.470. Validation loss: 0.447. Validation accuracy: 74.00%\n",
            "Epoch 250. Training loss: 0.470. Validation loss: 0.447. Validation accuracy: 74.00%\n",
            "Epoch 251. Training loss: 0.470. Validation loss: 0.446. Validation accuracy: 74.00%\n",
            "Epoch 252. Training loss: 0.470. Validation loss: 0.446. Validation accuracy: 74.00%\n",
            "Epoch 253. Training loss: 0.470. Validation loss: 0.446. Validation accuracy: 74.00%\n",
            "Epoch 254. Training loss: 0.470. Validation loss: 0.446. Validation accuracy: 74.00%\n",
            "Epoch 255. Training loss: 0.470. Validation loss: 0.446. Validation accuracy: 74.00%\n",
            "Epoch 256. Training loss: 0.470. Validation loss: 0.446. Validation accuracy: 74.00%\n",
            "Epoch 257. Training loss: 0.470. Validation loss: 0.446. Validation accuracy: 74.00%\n",
            "Epoch 258. Training loss: 0.470. Validation loss: 0.446. Validation accuracy: 74.00%\n",
            "Epoch 259. Training loss: 0.470. Validation loss: 0.446. Validation accuracy: 74.00%\n",
            "Epoch 260. Training loss: 0.470. Validation loss: 0.445. Validation accuracy: 74.00%\n",
            "Epoch 261. Training loss: 0.470. Validation loss: 0.445. Validation accuracy: 74.00%\n",
            "Epoch 262. Training loss: 0.470. Validation loss: 0.445. Validation accuracy: 74.00%\n",
            "Epoch 263. Training loss: 0.470. Validation loss: 0.445. Validation accuracy: 74.00%\n",
            "Epoch 264. Training loss: 0.470. Validation loss: 0.445. Validation accuracy: 74.00%\n",
            "Epoch 265. Training loss: 0.470. Validation loss: 0.445. Validation accuracy: 74.00%\n",
            "Epoch 266. Training loss: 0.469. Validation loss: 0.445. Validation accuracy: 74.00%\n",
            "Epoch 267. Training loss: 0.469. Validation loss: 0.445. Validation accuracy: 74.00%\n",
            "Epoch 268. Training loss: 0.469. Validation loss: 0.445. Validation accuracy: 74.00%\n",
            "Epoch 269. Training loss: 0.469. Validation loss: 0.444. Validation accuracy: 74.00%\n",
            "Epoch 270. Training loss: 0.469. Validation loss: 0.444. Validation accuracy: 74.00%\n",
            "Epoch 271. Training loss: 0.469. Validation loss: 0.444. Validation accuracy: 74.00%\n",
            "Epoch 272. Training loss: 0.469. Validation loss: 0.444. Validation accuracy: 74.00%\n",
            "Epoch 273. Training loss: 0.469. Validation loss: 0.444. Validation accuracy: 74.00%\n",
            "Epoch 274. Training loss: 0.469. Validation loss: 0.444. Validation accuracy: 74.00%\n",
            "Epoch 275. Training loss: 0.469. Validation loss: 0.444. Validation accuracy: 74.00%\n",
            "Epoch 276. Training loss: 0.469. Validation loss: 0.444. Validation accuracy: 74.00%\n",
            "Epoch 277. Training loss: 0.469. Validation loss: 0.443. Validation accuracy: 74.00%\n",
            "Epoch 278. Training loss: 0.469. Validation loss: 0.443. Validation accuracy: 74.00%\n",
            "Epoch 279. Training loss: 0.469. Validation loss: 0.443. Validation accuracy: 74.00%\n",
            "Epoch 280. Training loss: 0.469. Validation loss: 0.443. Validation accuracy: 74.00%\n",
            "Epoch 281. Training loss: 0.469. Validation loss: 0.443. Validation accuracy: 74.00%\n",
            "Epoch 282. Training loss: 0.469. Validation loss: 0.443. Validation accuracy: 74.00%\n",
            "Epoch 283. Training loss: 0.469. Validation loss: 0.443. Validation accuracy: 74.00%\n",
            "Epoch 284. Training loss: 0.469. Validation loss: 0.443. Validation accuracy: 74.00%\n",
            "Epoch 285. Training loss: 0.469. Validation loss: 0.443. Validation accuracy: 74.00%\n",
            "Epoch 286. Training loss: 0.469. Validation loss: 0.442. Validation accuracy: 74.00%\n",
            "Epoch 287. Training loss: 0.469. Validation loss: 0.442. Validation accuracy: 74.00%\n",
            "Epoch 288. Training loss: 0.469. Validation loss: 0.442. Validation accuracy: 74.00%\n",
            "Epoch 289. Training loss: 0.469. Validation loss: 0.442. Validation accuracy: 74.00%\n",
            "Epoch 290. Training loss: 0.469. Validation loss: 0.442. Validation accuracy: 74.00%\n",
            "Epoch 291. Training loss: 0.469. Validation loss: 0.442. Validation accuracy: 74.00%\n",
            "Epoch 292. Training loss: 0.468. Validation loss: 0.442. Validation accuracy: 74.00%\n",
            "Epoch 293. Training loss: 0.468. Validation loss: 0.442. Validation accuracy: 74.00%\n",
            "Epoch 294. Training loss: 0.468. Validation loss: 0.442. Validation accuracy: 74.00%\n",
            "Epoch 295. Training loss: 0.468. Validation loss: 0.441. Validation accuracy: 74.00%\n",
            "Epoch 296. Training loss: 0.468. Validation loss: 0.441. Validation accuracy: 74.00%\n",
            "Epoch 297. Training loss: 0.468. Validation loss: 0.441. Validation accuracy: 74.00%\n",
            "Epoch 298. Training loss: 0.468. Validation loss: 0.441. Validation accuracy: 74.00%\n",
            "Epoch 299. Training loss: 0.468. Validation loss: 0.441. Validation accuracy: 74.00%\n",
            "Epoch 300. Training loss: 0.468. Validation loss: 0.441. Validation accuracy: 74.00%\n",
            "Epoch 301. Training loss: 0.468. Validation loss: 0.441. Validation accuracy: 74.00%\n",
            "Epoch 302. Training loss: 0.468. Validation loss: 0.441. Validation accuracy: 74.00%\n",
            "Epoch 303. Training loss: 0.468. Validation loss: 0.441. Validation accuracy: 74.00%\n",
            "Epoch 304. Training loss: 0.468. Validation loss: 0.440. Validation accuracy: 74.00%\n",
            "Epoch 305. Training loss: 0.468. Validation loss: 0.440. Validation accuracy: 74.00%\n",
            "Epoch 306. Training loss: 0.468. Validation loss: 0.440. Validation accuracy: 74.00%\n",
            "Epoch 307. Training loss: 0.468. Validation loss: 0.440. Validation accuracy: 74.00%\n",
            "Epoch 308. Training loss: 0.468. Validation loss: 0.440. Validation accuracy: 74.00%\n",
            "Epoch 309. Training loss: 0.468. Validation loss: 0.440. Validation accuracy: 74.00%\n",
            "Epoch 310. Training loss: 0.468. Validation loss: 0.440. Validation accuracy: 74.00%\n",
            "Epoch 311. Training loss: 0.468. Validation loss: 0.440. Validation accuracy: 74.00%\n",
            "Epoch 312. Training loss: 0.468. Validation loss: 0.440. Validation accuracy: 74.00%\n",
            "Epoch 313. Training loss: 0.468. Validation loss: 0.439. Validation accuracy: 74.00%\n",
            "Epoch 314. Training loss: 0.468. Validation loss: 0.439. Validation accuracy: 74.00%\n",
            "Epoch 315. Training loss: 0.468. Validation loss: 0.439. Validation accuracy: 74.00%\n",
            "Epoch 316. Training loss: 0.468. Validation loss: 0.439. Validation accuracy: 74.00%\n",
            "Epoch 317. Training loss: 0.467. Validation loss: 0.439. Validation accuracy: 74.00%\n",
            "Epoch 318. Training loss: 0.467. Validation loss: 0.439. Validation accuracy: 74.00%\n",
            "Epoch 319. Training loss: 0.467. Validation loss: 0.439. Validation accuracy: 74.00%\n",
            "Epoch 320. Training loss: 0.467. Validation loss: 0.439. Validation accuracy: 74.00%\n",
            "Epoch 321. Training loss: 0.467. Validation loss: 0.439. Validation accuracy: 74.00%\n",
            "Epoch 322. Training loss: 0.467. Validation loss: 0.438. Validation accuracy: 74.00%\n",
            "Epoch 323. Training loss: 0.467. Validation loss: 0.438. Validation accuracy: 74.00%\n",
            "Epoch 324. Training loss: 0.467. Validation loss: 0.438. Validation accuracy: 74.00%\n",
            "Epoch 325. Training loss: 0.467. Validation loss: 0.438. Validation accuracy: 74.00%\n",
            "Epoch 326. Training loss: 0.467. Validation loss: 0.438. Validation accuracy: 74.00%\n",
            "Epoch 327. Training loss: 0.467. Validation loss: 0.438. Validation accuracy: 74.00%\n",
            "Epoch 328. Training loss: 0.467. Validation loss: 0.438. Validation accuracy: 74.00%\n",
            "Epoch 329. Training loss: 0.467. Validation loss: 0.438. Validation accuracy: 74.00%\n",
            "Epoch 330. Training loss: 0.467. Validation loss: 0.437. Validation accuracy: 74.00%\n",
            "Epoch 331. Training loss: 0.467. Validation loss: 0.437. Validation accuracy: 74.00%\n",
            "Epoch 332. Training loss: 0.467. Validation loss: 0.437. Validation accuracy: 74.00%\n",
            "Epoch 333. Training loss: 0.467. Validation loss: 0.437. Validation accuracy: 74.00%\n",
            "Epoch 334. Training loss: 0.467. Validation loss: 0.437. Validation accuracy: 74.00%\n",
            "Epoch 335. Training loss: 0.467. Validation loss: 0.437. Validation accuracy: 74.00%\n",
            "Epoch 336. Training loss: 0.467. Validation loss: 0.437. Validation accuracy: 74.00%\n",
            "Epoch 337. Training loss: 0.467. Validation loss: 0.437. Validation accuracy: 74.00%\n",
            "Epoch 338. Training loss: 0.467. Validation loss: 0.437. Validation accuracy: 74.00%\n",
            "Epoch 339. Training loss: 0.467. Validation loss: 0.436. Validation accuracy: 74.00%\n",
            "Epoch 340. Training loss: 0.466. Validation loss: 0.436. Validation accuracy: 74.00%\n",
            "Epoch 341. Training loss: 0.466. Validation loss: 0.436. Validation accuracy: 74.00%\n",
            "Epoch 342. Training loss: 0.466. Validation loss: 0.436. Validation accuracy: 74.00%\n",
            "Epoch 343. Training loss: 0.466. Validation loss: 0.436. Validation accuracy: 74.00%\n",
            "Epoch 344. Training loss: 0.466. Validation loss: 0.436. Validation accuracy: 74.00%\n",
            "Epoch 345. Training loss: 0.466. Validation loss: 0.436. Validation accuracy: 74.00%\n",
            "Epoch 346. Training loss: 0.466. Validation loss: 0.436. Validation accuracy: 74.00%\n",
            "Epoch 347. Training loss: 0.466. Validation loss: 0.436. Validation accuracy: 76.00%\n",
            "Epoch 348. Training loss: 0.466. Validation loss: 0.435. Validation accuracy: 76.00%\n",
            "Epoch 349. Training loss: 0.466. Validation loss: 0.435. Validation accuracy: 76.00%\n",
            "Epoch 350. Training loss: 0.466. Validation loss: 0.435. Validation accuracy: 76.00%\n",
            "Epoch 351. Training loss: 0.466. Validation loss: 0.435. Validation accuracy: 76.00%\n",
            "Epoch 352. Training loss: 0.466. Validation loss: 0.435. Validation accuracy: 76.00%\n",
            "Epoch 353. Training loss: 0.466. Validation loss: 0.435. Validation accuracy: 76.00%\n",
            "Epoch 354. Training loss: 0.466. Validation loss: 0.435. Validation accuracy: 76.00%\n",
            "Epoch 355. Training loss: 0.466. Validation loss: 0.435. Validation accuracy: 76.00%\n",
            "Epoch 356. Training loss: 0.466. Validation loss: 0.434. Validation accuracy: 76.00%\n",
            "Epoch 357. Training loss: 0.466. Validation loss: 0.434. Validation accuracy: 76.00%\n",
            "Epoch 358. Training loss: 0.466. Validation loss: 0.434. Validation accuracy: 76.00%\n",
            "Epoch 359. Training loss: 0.466. Validation loss: 0.434. Validation accuracy: 76.00%\n",
            "Epoch 360. Training loss: 0.466. Validation loss: 0.434. Validation accuracy: 76.00%\n",
            "Epoch 361. Training loss: 0.466. Validation loss: 0.434. Validation accuracy: 76.00%\n",
            "Epoch 362. Training loss: 0.465. Validation loss: 0.434. Validation accuracy: 76.00%\n",
            "Epoch 363. Training loss: 0.465. Validation loss: 0.434. Validation accuracy: 76.00%\n",
            "Epoch 364. Training loss: 0.465. Validation loss: 0.434. Validation accuracy: 76.00%\n",
            "Epoch 365. Training loss: 0.465. Validation loss: 0.433. Validation accuracy: 76.00%\n",
            "Epoch 366. Training loss: 0.465. Validation loss: 0.433. Validation accuracy: 76.00%\n",
            "Epoch 367. Training loss: 0.465. Validation loss: 0.433. Validation accuracy: 76.00%\n",
            "Epoch 368. Training loss: 0.465. Validation loss: 0.433. Validation accuracy: 76.00%\n",
            "Epoch 369. Training loss: 0.465. Validation loss: 0.433. Validation accuracy: 76.00%\n",
            "Epoch 370. Training loss: 0.465. Validation loss: 0.433. Validation accuracy: 76.00%\n",
            "Epoch 371. Training loss: 0.465. Validation loss: 0.433. Validation accuracy: 76.00%\n",
            "Epoch 372. Training loss: 0.465. Validation loss: 0.433. Validation accuracy: 76.00%\n",
            "Epoch 373. Training loss: 0.465. Validation loss: 0.432. Validation accuracy: 76.00%\n",
            "Epoch 374. Training loss: 0.465. Validation loss: 0.432. Validation accuracy: 76.00%\n",
            "Epoch 375. Training loss: 0.465. Validation loss: 0.432. Validation accuracy: 76.00%\n",
            "Epoch 376. Training loss: 0.465. Validation loss: 0.432. Validation accuracy: 76.00%\n",
            "Epoch 377. Training loss: 0.465. Validation loss: 0.432. Validation accuracy: 76.00%\n",
            "Epoch 378. Training loss: 0.465. Validation loss: 0.432. Validation accuracy: 76.00%\n",
            "Epoch 379. Training loss: 0.465. Validation loss: 0.432. Validation accuracy: 76.00%\n",
            "Epoch 380. Training loss: 0.465. Validation loss: 0.432. Validation accuracy: 76.00%\n",
            "Epoch 381. Training loss: 0.465. Validation loss: 0.431. Validation accuracy: 76.00%\n",
            "Epoch 382. Training loss: 0.465. Validation loss: 0.431. Validation accuracy: 76.00%\n",
            "Epoch 383. Training loss: 0.464. Validation loss: 0.431. Validation accuracy: 76.00%\n",
            "Epoch 384. Training loss: 0.464. Validation loss: 0.431. Validation accuracy: 76.00%\n",
            "Epoch 385. Training loss: 0.464. Validation loss: 0.431. Validation accuracy: 76.00%\n",
            "Epoch 386. Training loss: 0.464. Validation loss: 0.431. Validation accuracy: 76.00%\n",
            "Epoch 387. Training loss: 0.464. Validation loss: 0.431. Validation accuracy: 76.00%\n",
            "Epoch 388. Training loss: 0.464. Validation loss: 0.431. Validation accuracy: 76.00%\n",
            "Epoch 389. Training loss: 0.464. Validation loss: 0.430. Validation accuracy: 76.00%\n",
            "Epoch 390. Training loss: 0.464. Validation loss: 0.430. Validation accuracy: 76.00%\n",
            "Epoch 391. Training loss: 0.464. Validation loss: 0.430. Validation accuracy: 76.00%\n",
            "Epoch 392. Training loss: 0.464. Validation loss: 0.430. Validation accuracy: 76.00%\n",
            "Epoch 393. Training loss: 0.464. Validation loss: 0.430. Validation accuracy: 76.00%\n",
            "Epoch 394. Training loss: 0.464. Validation loss: 0.430. Validation accuracy: 76.00%\n",
            "Epoch 395. Training loss: 0.464. Validation loss: 0.430. Validation accuracy: 76.00%\n",
            "Epoch 396. Training loss: 0.464. Validation loss: 0.430. Validation accuracy: 76.00%\n",
            "Epoch 397. Training loss: 0.464. Validation loss: 0.430. Validation accuracy: 76.00%\n",
            "Epoch 398. Training loss: 0.464. Validation loss: 0.429. Validation accuracy: 76.00%\n",
            "Epoch 399. Training loss: 0.464. Validation loss: 0.429. Validation accuracy: 76.00%\n",
            "Epoch 400. Training loss: 0.464. Validation loss: 0.429. Validation accuracy: 76.00%\n",
            "End of Training\n"
          ],
          "name": "stdout"
        }
      ]
    },
    {
      "metadata": {
        "id": "Wgn61dgQRTp9",
        "colab_type": "code",
        "colab": {
          "base_uri": "https://localhost:8080/",
          "height": 34
        },
        "outputId": "e72155d3-4626-4a26-e275-768101101512"
      },
      "cell_type": "code",
      "source": [
        "#test the model\n",
        "testing_data = Data_Reader('Test',batch_size)\n",
        "for input_batch, target_batch in testing_data: \n",
        "  test_accuracy = session.run([accuracy], feed_dict = {inputs_placeholder: input_batch, targets_placeholder:target_batch})\n",
        "    \n",
        "print('{0:3f}'.format(test_accuracy[0]*100) + '%')"
      ],
      "execution_count": 208,
      "outputs": [
        {
          "output_type": "stream",
          "text": [
            "80.000001%\n"
          ],
          "name": "stdout"
        }
      ]
    },
    {
      "metadata": {
        "id": "8XJoMDtmRehu",
        "colab_type": "code",
        "colab": {}
      },
      "cell_type": "code",
      "source": [
        "classes = session.run(predictions,feed_dict = {inputs_placeholder: test_data})"
      ],
      "execution_count": 0,
      "outputs": []
    },
    {
      "metadata": {
        "id": "maDLfuSuSUBH",
        "colab_type": "code",
        "colab": {}
      },
      "cell_type": "code",
      "source": [
        "temp_df = pd.read_csv(\"test.csv\")\n",
        "final_output = pd.DataFrame()\n",
        "final_output['PassengerId'] = temp_df['PassengerId']"
      ],
      "execution_count": 0,
      "outputs": []
    },
    {
      "metadata": {
        "id": "AEwpSEkSXx-h",
        "colab_type": "code",
        "colab": {
          "base_uri": "https://localhost:8080/",
          "height": 204
        },
        "outputId": "2bdce8d6-a685-4ed4-cbad-3588c95928d8"
      },
      "cell_type": "code",
      "source": [
        "final_output['Survived'] = classes[:,1]\n",
        "final_output.head()"
      ],
      "execution_count": 222,
      "outputs": [
        {
          "output_type": "execute_result",
          "data": {
            "text/html": [
              "<div>\n",
              "<style scoped>\n",
              "    .dataframe tbody tr th:only-of-type {\n",
              "        vertical-align: middle;\n",
              "    }\n",
              "\n",
              "    .dataframe tbody tr th {\n",
              "        vertical-align: top;\n",
              "    }\n",
              "\n",
              "    .dataframe thead th {\n",
              "        text-align: right;\n",
              "    }\n",
              "</style>\n",
              "<table border=\"1\" class=\"dataframe\">\n",
              "  <thead>\n",
              "    <tr style=\"text-align: right;\">\n",
              "      <th></th>\n",
              "      <th>PassengerId</th>\n",
              "      <th>Survived</th>\n",
              "    </tr>\n",
              "  </thead>\n",
              "  <tbody>\n",
              "    <tr>\n",
              "      <th>0</th>\n",
              "      <td>892</td>\n",
              "      <td>0.220245</td>\n",
              "    </tr>\n",
              "    <tr>\n",
              "      <th>1</th>\n",
              "      <td>893</td>\n",
              "      <td>0.524703</td>\n",
              "    </tr>\n",
              "    <tr>\n",
              "      <th>2</th>\n",
              "      <td>894</td>\n",
              "      <td>0.346176</td>\n",
              "    </tr>\n",
              "    <tr>\n",
              "      <th>3</th>\n",
              "      <td>895</td>\n",
              "      <td>0.125361</td>\n",
              "    </tr>\n",
              "    <tr>\n",
              "      <th>4</th>\n",
              "      <td>896</td>\n",
              "      <td>0.717527</td>\n",
              "    </tr>\n",
              "  </tbody>\n",
              "</table>\n",
              "</div>"
            ],
            "text/plain": [
              "   PassengerId  Survived\n",
              "0          892  0.220245\n",
              "1          893  0.524703\n",
              "2          894  0.346176\n",
              "3          895  0.125361\n",
              "4          896  0.717527"
            ]
          },
          "metadata": {
            "tags": []
          },
          "execution_count": 222
        }
      ]
    },
    {
      "metadata": {
        "id": "-_5Jp7neWOqe",
        "colab_type": "code",
        "colab": {
          "base_uri": "https://localhost:8080/",
          "height": 204
        },
        "outputId": "ba1332fe-537e-47da-a1eb-aefecfdb1926"
      },
      "cell_type": "code",
      "source": [
        "conditions = [\n",
        "    (final_output['Survived'] <= 0.5),\n",
        "    (final_output['Survived'] > 0.5)]\n",
        "\n",
        "choices = [0,1]\n",
        "final_output['Survived'] = np.select(conditions, choices)\n",
        "final_output.head()"
      ],
      "execution_count": 223,
      "outputs": [
        {
          "output_type": "execute_result",
          "data": {
            "text/html": [
              "<div>\n",
              "<style scoped>\n",
              "    .dataframe tbody tr th:only-of-type {\n",
              "        vertical-align: middle;\n",
              "    }\n",
              "\n",
              "    .dataframe tbody tr th {\n",
              "        vertical-align: top;\n",
              "    }\n",
              "\n",
              "    .dataframe thead th {\n",
              "        text-align: right;\n",
              "    }\n",
              "</style>\n",
              "<table border=\"1\" class=\"dataframe\">\n",
              "  <thead>\n",
              "    <tr style=\"text-align: right;\">\n",
              "      <th></th>\n",
              "      <th>PassengerId</th>\n",
              "      <th>Survived</th>\n",
              "    </tr>\n",
              "  </thead>\n",
              "  <tbody>\n",
              "    <tr>\n",
              "      <th>0</th>\n",
              "      <td>892</td>\n",
              "      <td>0</td>\n",
              "    </tr>\n",
              "    <tr>\n",
              "      <th>1</th>\n",
              "      <td>893</td>\n",
              "      <td>1</td>\n",
              "    </tr>\n",
              "    <tr>\n",
              "      <th>2</th>\n",
              "      <td>894</td>\n",
              "      <td>0</td>\n",
              "    </tr>\n",
              "    <tr>\n",
              "      <th>3</th>\n",
              "      <td>895</td>\n",
              "      <td>0</td>\n",
              "    </tr>\n",
              "    <tr>\n",
              "      <th>4</th>\n",
              "      <td>896</td>\n",
              "      <td>1</td>\n",
              "    </tr>\n",
              "  </tbody>\n",
              "</table>\n",
              "</div>"
            ],
            "text/plain": [
              "   PassengerId  Survived\n",
              "0          892         0\n",
              "1          893         1\n",
              "2          894         0\n",
              "3          895         0\n",
              "4          896         1"
            ]
          },
          "metadata": {
            "tags": []
          },
          "execution_count": 223
        }
      ]
    },
    {
      "metadata": {
        "id": "UAgM4JibYwPA",
        "colab_type": "code",
        "colab": {}
      },
      "cell_type": "code",
      "source": [
        "final_output['Survived'] = final_output['Survived'].astype('str')\n",
        "final_output.to_csv('Titanic_predictions.csv', index = False)"
      ],
      "execution_count": 0,
      "outputs": []
    },
    {
      "metadata": {
        "id": "8Z4D_ZfqZFn3",
        "colab_type": "code",
        "colab": {}
      },
      "cell_type": "code",
      "source": [
        "files.download('Titanic_predictions.csv') "
      ],
      "execution_count": 0,
      "outputs": []
    },
    {
      "metadata": {
        "id": "K_b_oX64ZknG",
        "colab_type": "code",
        "colab": {
          "base_uri": "https://localhost:8080/",
          "height": 1969
        },
        "outputId": "4de25271-b6a9-4a16-e614-cfd60b488b43"
      },
      "cell_type": "code",
      "source": [
        "d = pd.read_csv('Titanic_predictions.csv')\n",
        "d"
      ],
      "execution_count": 233,
      "outputs": [
        {
          "output_type": "execute_result",
          "data": {
            "text/html": [
              "<div>\n",
              "<style scoped>\n",
              "    .dataframe tbody tr th:only-of-type {\n",
              "        vertical-align: middle;\n",
              "    }\n",
              "\n",
              "    .dataframe tbody tr th {\n",
              "        vertical-align: top;\n",
              "    }\n",
              "\n",
              "    .dataframe thead th {\n",
              "        text-align: right;\n",
              "    }\n",
              "</style>\n",
              "<table border=\"1\" class=\"dataframe\">\n",
              "  <thead>\n",
              "    <tr style=\"text-align: right;\">\n",
              "      <th></th>\n",
              "      <th>PassengerId</th>\n",
              "      <th>Survived</th>\n",
              "    </tr>\n",
              "  </thead>\n",
              "  <tbody>\n",
              "    <tr>\n",
              "      <th>0</th>\n",
              "      <td>892</td>\n",
              "      <td>0</td>\n",
              "    </tr>\n",
              "    <tr>\n",
              "      <th>1</th>\n",
              "      <td>893</td>\n",
              "      <td>1</td>\n",
              "    </tr>\n",
              "    <tr>\n",
              "      <th>2</th>\n",
              "      <td>894</td>\n",
              "      <td>0</td>\n",
              "    </tr>\n",
              "    <tr>\n",
              "      <th>3</th>\n",
              "      <td>895</td>\n",
              "      <td>0</td>\n",
              "    </tr>\n",
              "    <tr>\n",
              "      <th>4</th>\n",
              "      <td>896</td>\n",
              "      <td>1</td>\n",
              "    </tr>\n",
              "    <tr>\n",
              "      <th>5</th>\n",
              "      <td>897</td>\n",
              "      <td>0</td>\n",
              "    </tr>\n",
              "    <tr>\n",
              "      <th>6</th>\n",
              "      <td>898</td>\n",
              "      <td>1</td>\n",
              "    </tr>\n",
              "    <tr>\n",
              "      <th>7</th>\n",
              "      <td>899</td>\n",
              "      <td>0</td>\n",
              "    </tr>\n",
              "    <tr>\n",
              "      <th>8</th>\n",
              "      <td>900</td>\n",
              "      <td>1</td>\n",
              "    </tr>\n",
              "    <tr>\n",
              "      <th>9</th>\n",
              "      <td>901</td>\n",
              "      <td>0</td>\n",
              "    </tr>\n",
              "    <tr>\n",
              "      <th>10</th>\n",
              "      <td>902</td>\n",
              "      <td>0</td>\n",
              "    </tr>\n",
              "    <tr>\n",
              "      <th>11</th>\n",
              "      <td>903</td>\n",
              "      <td>0</td>\n",
              "    </tr>\n",
              "    <tr>\n",
              "      <th>12</th>\n",
              "      <td>904</td>\n",
              "      <td>1</td>\n",
              "    </tr>\n",
              "    <tr>\n",
              "      <th>13</th>\n",
              "      <td>905</td>\n",
              "      <td>0</td>\n",
              "    </tr>\n",
              "    <tr>\n",
              "      <th>14</th>\n",
              "      <td>906</td>\n",
              "      <td>1</td>\n",
              "    </tr>\n",
              "    <tr>\n",
              "      <th>15</th>\n",
              "      <td>907</td>\n",
              "      <td>1</td>\n",
              "    </tr>\n",
              "    <tr>\n",
              "      <th>16</th>\n",
              "      <td>908</td>\n",
              "      <td>0</td>\n",
              "    </tr>\n",
              "    <tr>\n",
              "      <th>17</th>\n",
              "      <td>909</td>\n",
              "      <td>0</td>\n",
              "    </tr>\n",
              "    <tr>\n",
              "      <th>18</th>\n",
              "      <td>910</td>\n",
              "      <td>1</td>\n",
              "    </tr>\n",
              "    <tr>\n",
              "      <th>19</th>\n",
              "      <td>911</td>\n",
              "      <td>1</td>\n",
              "    </tr>\n",
              "    <tr>\n",
              "      <th>20</th>\n",
              "      <td>912</td>\n",
              "      <td>1</td>\n",
              "    </tr>\n",
              "    <tr>\n",
              "      <th>21</th>\n",
              "      <td>913</td>\n",
              "      <td>0</td>\n",
              "    </tr>\n",
              "    <tr>\n",
              "      <th>22</th>\n",
              "      <td>914</td>\n",
              "      <td>1</td>\n",
              "    </tr>\n",
              "    <tr>\n",
              "      <th>23</th>\n",
              "      <td>915</td>\n",
              "      <td>1</td>\n",
              "    </tr>\n",
              "    <tr>\n",
              "      <th>24</th>\n",
              "      <td>916</td>\n",
              "      <td>1</td>\n",
              "    </tr>\n",
              "    <tr>\n",
              "      <th>25</th>\n",
              "      <td>917</td>\n",
              "      <td>0</td>\n",
              "    </tr>\n",
              "    <tr>\n",
              "      <th>26</th>\n",
              "      <td>918</td>\n",
              "      <td>1</td>\n",
              "    </tr>\n",
              "    <tr>\n",
              "      <th>27</th>\n",
              "      <td>919</td>\n",
              "      <td>0</td>\n",
              "    </tr>\n",
              "    <tr>\n",
              "      <th>28</th>\n",
              "      <td>920</td>\n",
              "      <td>0</td>\n",
              "    </tr>\n",
              "    <tr>\n",
              "      <th>29</th>\n",
              "      <td>921</td>\n",
              "      <td>0</td>\n",
              "    </tr>\n",
              "    <tr>\n",
              "      <th>...</th>\n",
              "      <td>...</td>\n",
              "      <td>...</td>\n",
              "    </tr>\n",
              "    <tr>\n",
              "      <th>388</th>\n",
              "      <td>1280</td>\n",
              "      <td>0</td>\n",
              "    </tr>\n",
              "    <tr>\n",
              "      <th>389</th>\n",
              "      <td>1281</td>\n",
              "      <td>0</td>\n",
              "    </tr>\n",
              "    <tr>\n",
              "      <th>390</th>\n",
              "      <td>1282</td>\n",
              "      <td>1</td>\n",
              "    </tr>\n",
              "    <tr>\n",
              "      <th>391</th>\n",
              "      <td>1283</td>\n",
              "      <td>1</td>\n",
              "    </tr>\n",
              "    <tr>\n",
              "      <th>392</th>\n",
              "      <td>1284</td>\n",
              "      <td>0</td>\n",
              "    </tr>\n",
              "    <tr>\n",
              "      <th>393</th>\n",
              "      <td>1285</td>\n",
              "      <td>0</td>\n",
              "    </tr>\n",
              "    <tr>\n",
              "      <th>394</th>\n",
              "      <td>1286</td>\n",
              "      <td>0</td>\n",
              "    </tr>\n",
              "    <tr>\n",
              "      <th>395</th>\n",
              "      <td>1287</td>\n",
              "      <td>1</td>\n",
              "    </tr>\n",
              "    <tr>\n",
              "      <th>396</th>\n",
              "      <td>1288</td>\n",
              "      <td>0</td>\n",
              "    </tr>\n",
              "    <tr>\n",
              "      <th>397</th>\n",
              "      <td>1289</td>\n",
              "      <td>1</td>\n",
              "    </tr>\n",
              "    <tr>\n",
              "      <th>398</th>\n",
              "      <td>1290</td>\n",
              "      <td>0</td>\n",
              "    </tr>\n",
              "    <tr>\n",
              "      <th>399</th>\n",
              "      <td>1291</td>\n",
              "      <td>0</td>\n",
              "    </tr>\n",
              "    <tr>\n",
              "      <th>400</th>\n",
              "      <td>1292</td>\n",
              "      <td>1</td>\n",
              "    </tr>\n",
              "    <tr>\n",
              "      <th>401</th>\n",
              "      <td>1293</td>\n",
              "      <td>0</td>\n",
              "    </tr>\n",
              "    <tr>\n",
              "      <th>402</th>\n",
              "      <td>1294</td>\n",
              "      <td>1</td>\n",
              "    </tr>\n",
              "    <tr>\n",
              "      <th>403</th>\n",
              "      <td>1295</td>\n",
              "      <td>1</td>\n",
              "    </tr>\n",
              "    <tr>\n",
              "      <th>404</th>\n",
              "      <td>1296</td>\n",
              "      <td>1</td>\n",
              "    </tr>\n",
              "    <tr>\n",
              "      <th>405</th>\n",
              "      <td>1297</td>\n",
              "      <td>0</td>\n",
              "    </tr>\n",
              "    <tr>\n",
              "      <th>406</th>\n",
              "      <td>1298</td>\n",
              "      <td>0</td>\n",
              "    </tr>\n",
              "    <tr>\n",
              "      <th>407</th>\n",
              "      <td>1299</td>\n",
              "      <td>1</td>\n",
              "    </tr>\n",
              "    <tr>\n",
              "      <th>408</th>\n",
              "      <td>1300</td>\n",
              "      <td>1</td>\n",
              "    </tr>\n",
              "    <tr>\n",
              "      <th>409</th>\n",
              "      <td>1301</td>\n",
              "      <td>1</td>\n",
              "    </tr>\n",
              "    <tr>\n",
              "      <th>410</th>\n",
              "      <td>1302</td>\n",
              "      <td>1</td>\n",
              "    </tr>\n",
              "    <tr>\n",
              "      <th>411</th>\n",
              "      <td>1303</td>\n",
              "      <td>1</td>\n",
              "    </tr>\n",
              "    <tr>\n",
              "      <th>412</th>\n",
              "      <td>1304</td>\n",
              "      <td>1</td>\n",
              "    </tr>\n",
              "    <tr>\n",
              "      <th>413</th>\n",
              "      <td>1305</td>\n",
              "      <td>0</td>\n",
              "    </tr>\n",
              "    <tr>\n",
              "      <th>414</th>\n",
              "      <td>1306</td>\n",
              "      <td>1</td>\n",
              "    </tr>\n",
              "    <tr>\n",
              "      <th>415</th>\n",
              "      <td>1307</td>\n",
              "      <td>0</td>\n",
              "    </tr>\n",
              "    <tr>\n",
              "      <th>416</th>\n",
              "      <td>1308</td>\n",
              "      <td>0</td>\n",
              "    </tr>\n",
              "    <tr>\n",
              "      <th>417</th>\n",
              "      <td>1309</td>\n",
              "      <td>0</td>\n",
              "    </tr>\n",
              "  </tbody>\n",
              "</table>\n",
              "<p>418 rows × 2 columns</p>\n",
              "</div>"
            ],
            "text/plain": [
              "     PassengerId  Survived\n",
              "0            892         0\n",
              "1            893         1\n",
              "2            894         0\n",
              "3            895         0\n",
              "4            896         1\n",
              "5            897         0\n",
              "6            898         1\n",
              "7            899         0\n",
              "8            900         1\n",
              "9            901         0\n",
              "10           902         0\n",
              "11           903         0\n",
              "12           904         1\n",
              "13           905         0\n",
              "14           906         1\n",
              "15           907         1\n",
              "16           908         0\n",
              "17           909         0\n",
              "18           910         1\n",
              "19           911         1\n",
              "20           912         1\n",
              "21           913         0\n",
              "22           914         1\n",
              "23           915         1\n",
              "24           916         1\n",
              "25           917         0\n",
              "26           918         1\n",
              "27           919         0\n",
              "28           920         0\n",
              "29           921         0\n",
              "..           ...       ...\n",
              "388         1280         0\n",
              "389         1281         0\n",
              "390         1282         1\n",
              "391         1283         1\n",
              "392         1284         0\n",
              "393         1285         0\n",
              "394         1286         0\n",
              "395         1287         1\n",
              "396         1288         0\n",
              "397         1289         1\n",
              "398         1290         0\n",
              "399         1291         0\n",
              "400         1292         1\n",
              "401         1293         0\n",
              "402         1294         1\n",
              "403         1295         1\n",
              "404         1296         1\n",
              "405         1297         0\n",
              "406         1298         0\n",
              "407         1299         1\n",
              "408         1300         1\n",
              "409         1301         1\n",
              "410         1302         1\n",
              "411         1303         1\n",
              "412         1304         1\n",
              "413         1305         0\n",
              "414         1306         1\n",
              "415         1307         0\n",
              "416         1308         0\n",
              "417         1309         0\n",
              "\n",
              "[418 rows x 2 columns]"
            ]
          },
          "metadata": {
            "tags": []
          },
          "execution_count": 233
        }
      ]
    },
    {
      "metadata": {
        "id": "m1c-6-vLalGg",
        "colab_type": "code",
        "colab": {}
      },
      "cell_type": "code",
      "source": [
        ""
      ],
      "execution_count": 0,
      "outputs": []
    }
  ]
}